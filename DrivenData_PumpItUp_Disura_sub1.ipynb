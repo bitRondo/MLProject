{
  "nbformat": 4,
  "nbformat_minor": 0,
  "metadata": {
    "colab": {
      "name": "DrivenData_PumpItUp_Disura_2.ipynb",
      "provenance": [],
      "collapsed_sections": [
        "9QAyHAeNYPAa",
        "XrEQtzWIK7D6",
        "2_-C1T6LPqJF",
        "GJp-4R1xoIyJ"
      ]
    },
    "kernelspec": {
      "name": "python3",
      "display_name": "Python 3"
    },
    "language_info": {
      "name": "python"
    }
  },
  "cells": [
    {
      "cell_type": "markdown",
      "metadata": {
        "id": "6JV9vWE2RIkb"
      },
      "source": [
        "Importing numpy and pandas"
      ]
    },
    {
      "cell_type": "code",
      "metadata": {
        "id": "9WPOb-DTQAZm"
      },
      "source": [
        "import numpy as np\n",
        "import pandas as pd"
      ],
      "execution_count": 334,
      "outputs": []
    },
    {
      "cell_type": "markdown",
      "metadata": {
        "id": "AWsCfU5Zsrm_"
      },
      "source": [
        "Importing more utilites"
      ]
    },
    {
      "cell_type": "code",
      "metadata": {
        "id": "kys2ZnPQsuaG"
      },
      "source": [
        "import sklearn as sk\n",
        "import matplotlib.pyplot as plt\n",
        "import seaborn as sns"
      ],
      "execution_count": 335,
      "outputs": []
    },
    {
      "cell_type": "markdown",
      "metadata": {
        "id": "9QAyHAeNYPAa"
      },
      "source": [
        "# Part 1 : Loading training and test data"
      ]
    },
    {
      "cell_type": "markdown",
      "metadata": {
        "id": "tE598rcPTgeB"
      },
      "source": [
        "\n",
        "\n",
        "*   Variables to hold paths of training features, training labels, and test features respectively\n",
        "\n"
      ]
    },
    {
      "cell_type": "code",
      "metadata": {
        "id": "gvvfrILuSiZm"
      },
      "source": [
        "f_tr_feat = './training_features.csv'\n",
        "f_tr_lab = './training_labels.csv'\n",
        "f_te_feat = './testing_features.csv'"
      ],
      "execution_count": 336,
      "outputs": []
    },
    {
      "cell_type": "markdown",
      "metadata": {
        "id": "N1A2qsE1UF9s"
      },
      "source": [
        "\n",
        "\n",
        "*   Reading files as Dataframes\n",
        "\n"
      ]
    },
    {
      "cell_type": "code",
      "metadata": {
        "id": "Xv_wcecPUTI6"
      },
      "source": [
        "train_feats = pd.read_csv(f_tr_feat, parse_dates=True)\n",
        "train_labels = pd.read_csv(f_tr_lab)\n",
        "test_feats = pd.read_csv(f_te_feat, parse_dates=True)"
      ],
      "execution_count": 337,
      "outputs": []
    },
    {
      "cell_type": "markdown",
      "metadata": {
        "id": "ba3xAfz2UyuT"
      },
      "source": [
        "Let us examine the dataframes to make sure they have been read properly."
      ]
    },
    {
      "cell_type": "code",
      "metadata": {
        "id": "75bfC1NZU5NF"
      },
      "source": [
        "# train_feats.head()"
      ],
      "execution_count": 338,
      "outputs": []
    },
    {
      "cell_type": "code",
      "metadata": {
        "colab": {
          "base_uri": "https://localhost:8080/",
          "height": 317
        },
        "id": "AglMWm0JVGfK",
        "outputId": "c8e573c1-d231-4f88-d3e2-1bc393c962e8"
      },
      "source": [
        "train_feats.describe()"
      ],
      "execution_count": 339,
      "outputs": [
        {
          "output_type": "execute_result",
          "data": {
            "text/html": [
              "<div>\n",
              "<style scoped>\n",
              "    .dataframe tbody tr th:only-of-type {\n",
              "        vertical-align: middle;\n",
              "    }\n",
              "\n",
              "    .dataframe tbody tr th {\n",
              "        vertical-align: top;\n",
              "    }\n",
              "\n",
              "    .dataframe thead th {\n",
              "        text-align: right;\n",
              "    }\n",
              "</style>\n",
              "<table border=\"1\" class=\"dataframe\">\n",
              "  <thead>\n",
              "    <tr style=\"text-align: right;\">\n",
              "      <th></th>\n",
              "      <th>id</th>\n",
              "      <th>amount_tsh</th>\n",
              "      <th>gps_height</th>\n",
              "      <th>longitude</th>\n",
              "      <th>latitude</th>\n",
              "      <th>num_private</th>\n",
              "      <th>region_code</th>\n",
              "      <th>district_code</th>\n",
              "      <th>population</th>\n",
              "      <th>construction_year</th>\n",
              "    </tr>\n",
              "  </thead>\n",
              "  <tbody>\n",
              "    <tr>\n",
              "      <th>count</th>\n",
              "      <td>59400.000000</td>\n",
              "      <td>59400.000000</td>\n",
              "      <td>59400.000000</td>\n",
              "      <td>59400.000000</td>\n",
              "      <td>5.940000e+04</td>\n",
              "      <td>59400.000000</td>\n",
              "      <td>59400.000000</td>\n",
              "      <td>59400.000000</td>\n",
              "      <td>59400.000000</td>\n",
              "      <td>59400.000000</td>\n",
              "    </tr>\n",
              "    <tr>\n",
              "      <th>mean</th>\n",
              "      <td>37115.131768</td>\n",
              "      <td>317.650385</td>\n",
              "      <td>668.297239</td>\n",
              "      <td>34.077427</td>\n",
              "      <td>-5.706033e+00</td>\n",
              "      <td>0.474141</td>\n",
              "      <td>15.297003</td>\n",
              "      <td>5.629747</td>\n",
              "      <td>179.909983</td>\n",
              "      <td>1300.652475</td>\n",
              "    </tr>\n",
              "    <tr>\n",
              "      <th>std</th>\n",
              "      <td>21453.128371</td>\n",
              "      <td>2997.574558</td>\n",
              "      <td>693.116350</td>\n",
              "      <td>6.567432</td>\n",
              "      <td>2.946019e+00</td>\n",
              "      <td>12.236230</td>\n",
              "      <td>17.587406</td>\n",
              "      <td>9.633649</td>\n",
              "      <td>471.482176</td>\n",
              "      <td>951.620547</td>\n",
              "    </tr>\n",
              "    <tr>\n",
              "      <th>min</th>\n",
              "      <td>0.000000</td>\n",
              "      <td>0.000000</td>\n",
              "      <td>-90.000000</td>\n",
              "      <td>0.000000</td>\n",
              "      <td>-1.164944e+01</td>\n",
              "      <td>0.000000</td>\n",
              "      <td>1.000000</td>\n",
              "      <td>0.000000</td>\n",
              "      <td>0.000000</td>\n",
              "      <td>0.000000</td>\n",
              "    </tr>\n",
              "    <tr>\n",
              "      <th>25%</th>\n",
              "      <td>18519.750000</td>\n",
              "      <td>0.000000</td>\n",
              "      <td>0.000000</td>\n",
              "      <td>33.090347</td>\n",
              "      <td>-8.540621e+00</td>\n",
              "      <td>0.000000</td>\n",
              "      <td>5.000000</td>\n",
              "      <td>2.000000</td>\n",
              "      <td>0.000000</td>\n",
              "      <td>0.000000</td>\n",
              "    </tr>\n",
              "    <tr>\n",
              "      <th>50%</th>\n",
              "      <td>37061.500000</td>\n",
              "      <td>0.000000</td>\n",
              "      <td>369.000000</td>\n",
              "      <td>34.908743</td>\n",
              "      <td>-5.021597e+00</td>\n",
              "      <td>0.000000</td>\n",
              "      <td>12.000000</td>\n",
              "      <td>3.000000</td>\n",
              "      <td>25.000000</td>\n",
              "      <td>1986.000000</td>\n",
              "    </tr>\n",
              "    <tr>\n",
              "      <th>75%</th>\n",
              "      <td>55656.500000</td>\n",
              "      <td>20.000000</td>\n",
              "      <td>1319.250000</td>\n",
              "      <td>37.178387</td>\n",
              "      <td>-3.326156e+00</td>\n",
              "      <td>0.000000</td>\n",
              "      <td>17.000000</td>\n",
              "      <td>5.000000</td>\n",
              "      <td>215.000000</td>\n",
              "      <td>2004.000000</td>\n",
              "    </tr>\n",
              "    <tr>\n",
              "      <th>max</th>\n",
              "      <td>74247.000000</td>\n",
              "      <td>350000.000000</td>\n",
              "      <td>2770.000000</td>\n",
              "      <td>40.345193</td>\n",
              "      <td>-2.000000e-08</td>\n",
              "      <td>1776.000000</td>\n",
              "      <td>99.000000</td>\n",
              "      <td>80.000000</td>\n",
              "      <td>30500.000000</td>\n",
              "      <td>2013.000000</td>\n",
              "    </tr>\n",
              "  </tbody>\n",
              "</table>\n",
              "</div>"
            ],
            "text/plain": [
              "                 id     amount_tsh  ...    population  construction_year\n",
              "count  59400.000000   59400.000000  ...  59400.000000       59400.000000\n",
              "mean   37115.131768     317.650385  ...    179.909983        1300.652475\n",
              "std    21453.128371    2997.574558  ...    471.482176         951.620547\n",
              "min        0.000000       0.000000  ...      0.000000           0.000000\n",
              "25%    18519.750000       0.000000  ...      0.000000           0.000000\n",
              "50%    37061.500000       0.000000  ...     25.000000        1986.000000\n",
              "75%    55656.500000      20.000000  ...    215.000000        2004.000000\n",
              "max    74247.000000  350000.000000  ...  30500.000000        2013.000000\n",
              "\n",
              "[8 rows x 10 columns]"
            ]
          },
          "metadata": {},
          "execution_count": 339
        }
      ]
    },
    {
      "cell_type": "code",
      "metadata": {
        "colab": {
          "base_uri": "https://localhost:8080/",
          "height": 204
        },
        "id": "64f6zvSgVbnp",
        "outputId": "6d5bcbc7-a5cf-463d-850e-70a64e0336b6"
      },
      "source": [
        "train_labels.head()"
      ],
      "execution_count": 340,
      "outputs": [
        {
          "output_type": "execute_result",
          "data": {
            "text/html": [
              "<div>\n",
              "<style scoped>\n",
              "    .dataframe tbody tr th:only-of-type {\n",
              "        vertical-align: middle;\n",
              "    }\n",
              "\n",
              "    .dataframe tbody tr th {\n",
              "        vertical-align: top;\n",
              "    }\n",
              "\n",
              "    .dataframe thead th {\n",
              "        text-align: right;\n",
              "    }\n",
              "</style>\n",
              "<table border=\"1\" class=\"dataframe\">\n",
              "  <thead>\n",
              "    <tr style=\"text-align: right;\">\n",
              "      <th></th>\n",
              "      <th>id</th>\n",
              "      <th>status_group</th>\n",
              "    </tr>\n",
              "  </thead>\n",
              "  <tbody>\n",
              "    <tr>\n",
              "      <th>0</th>\n",
              "      <td>69572</td>\n",
              "      <td>functional</td>\n",
              "    </tr>\n",
              "    <tr>\n",
              "      <th>1</th>\n",
              "      <td>8776</td>\n",
              "      <td>functional</td>\n",
              "    </tr>\n",
              "    <tr>\n",
              "      <th>2</th>\n",
              "      <td>34310</td>\n",
              "      <td>functional</td>\n",
              "    </tr>\n",
              "    <tr>\n",
              "      <th>3</th>\n",
              "      <td>67743</td>\n",
              "      <td>non functional</td>\n",
              "    </tr>\n",
              "    <tr>\n",
              "      <th>4</th>\n",
              "      <td>19728</td>\n",
              "      <td>functional</td>\n",
              "    </tr>\n",
              "  </tbody>\n",
              "</table>\n",
              "</div>"
            ],
            "text/plain": [
              "      id    status_group\n",
              "0  69572      functional\n",
              "1   8776      functional\n",
              "2  34310      functional\n",
              "3  67743  non functional\n",
              "4  19728      functional"
            ]
          },
          "metadata": {},
          "execution_count": 340
        }
      ]
    },
    {
      "cell_type": "code",
      "metadata": {
        "id": "yym_230OXGEf"
      },
      "source": [
        "# test_feats.head()"
      ],
      "execution_count": 341,
      "outputs": []
    },
    {
      "cell_type": "code",
      "metadata": {
        "colab": {
          "base_uri": "https://localhost:8080/",
          "height": 317
        },
        "id": "46NZi5jZXMNX",
        "outputId": "b40a221b-f4d9-4f4c-d59b-add48a33a4a6"
      },
      "source": [
        "test_feats.describe()"
      ],
      "execution_count": 342,
      "outputs": [
        {
          "output_type": "execute_result",
          "data": {
            "text/html": [
              "<div>\n",
              "<style scoped>\n",
              "    .dataframe tbody tr th:only-of-type {\n",
              "        vertical-align: middle;\n",
              "    }\n",
              "\n",
              "    .dataframe tbody tr th {\n",
              "        vertical-align: top;\n",
              "    }\n",
              "\n",
              "    .dataframe thead th {\n",
              "        text-align: right;\n",
              "    }\n",
              "</style>\n",
              "<table border=\"1\" class=\"dataframe\">\n",
              "  <thead>\n",
              "    <tr style=\"text-align: right;\">\n",
              "      <th></th>\n",
              "      <th>id</th>\n",
              "      <th>amount_tsh</th>\n",
              "      <th>gps_height</th>\n",
              "      <th>longitude</th>\n",
              "      <th>latitude</th>\n",
              "      <th>num_private</th>\n",
              "      <th>region_code</th>\n",
              "      <th>district_code</th>\n",
              "      <th>population</th>\n",
              "      <th>construction_year</th>\n",
              "    </tr>\n",
              "  </thead>\n",
              "  <tbody>\n",
              "    <tr>\n",
              "      <th>count</th>\n",
              "      <td>14850.000000</td>\n",
              "      <td>14850.000000</td>\n",
              "      <td>14850.000000</td>\n",
              "      <td>14850.000000</td>\n",
              "      <td>1.485000e+04</td>\n",
              "      <td>14850.000000</td>\n",
              "      <td>14850.000000</td>\n",
              "      <td>14850.000000</td>\n",
              "      <td>14850.000000</td>\n",
              "      <td>14850.000000</td>\n",
              "    </tr>\n",
              "    <tr>\n",
              "      <th>mean</th>\n",
              "      <td>37161.972929</td>\n",
              "      <td>322.826983</td>\n",
              "      <td>655.147609</td>\n",
              "      <td>34.061605</td>\n",
              "      <td>-5.684724e+00</td>\n",
              "      <td>0.415084</td>\n",
              "      <td>15.139057</td>\n",
              "      <td>5.626397</td>\n",
              "      <td>184.114209</td>\n",
              "      <td>1289.708350</td>\n",
              "    </tr>\n",
              "    <tr>\n",
              "      <th>std</th>\n",
              "      <td>21359.364833</td>\n",
              "      <td>2510.968644</td>\n",
              "      <td>691.261185</td>\n",
              "      <td>6.593034</td>\n",
              "      <td>2.940803e+00</td>\n",
              "      <td>8.167910</td>\n",
              "      <td>17.191329</td>\n",
              "      <td>9.673842</td>\n",
              "      <td>469.499332</td>\n",
              "      <td>955.241087</td>\n",
              "    </tr>\n",
              "    <tr>\n",
              "      <th>min</th>\n",
              "      <td>10.000000</td>\n",
              "      <td>0.000000</td>\n",
              "      <td>-57.000000</td>\n",
              "      <td>0.000000</td>\n",
              "      <td>-1.156459e+01</td>\n",
              "      <td>0.000000</td>\n",
              "      <td>1.000000</td>\n",
              "      <td>0.000000</td>\n",
              "      <td>0.000000</td>\n",
              "      <td>0.000000</td>\n",
              "    </tr>\n",
              "    <tr>\n",
              "      <th>25%</th>\n",
              "      <td>18727.000000</td>\n",
              "      <td>0.000000</td>\n",
              "      <td>0.000000</td>\n",
              "      <td>33.069455</td>\n",
              "      <td>-8.443970e+00</td>\n",
              "      <td>0.000000</td>\n",
              "      <td>5.000000</td>\n",
              "      <td>2.000000</td>\n",
              "      <td>0.000000</td>\n",
              "      <td>0.000000</td>\n",
              "    </tr>\n",
              "    <tr>\n",
              "      <th>50%</th>\n",
              "      <td>37361.500000</td>\n",
              "      <td>0.000000</td>\n",
              "      <td>344.000000</td>\n",
              "      <td>34.901215</td>\n",
              "      <td>-5.049750e+00</td>\n",
              "      <td>0.000000</td>\n",
              "      <td>12.000000</td>\n",
              "      <td>3.000000</td>\n",
              "      <td>20.000000</td>\n",
              "      <td>1986.000000</td>\n",
              "    </tr>\n",
              "    <tr>\n",
              "      <th>75%</th>\n",
              "      <td>55799.750000</td>\n",
              "      <td>25.000000</td>\n",
              "      <td>1308.000000</td>\n",
              "      <td>37.196594</td>\n",
              "      <td>-3.320594e+00</td>\n",
              "      <td>0.000000</td>\n",
              "      <td>17.000000</td>\n",
              "      <td>5.000000</td>\n",
              "      <td>220.000000</td>\n",
              "      <td>2004.000000</td>\n",
              "    </tr>\n",
              "    <tr>\n",
              "      <th>max</th>\n",
              "      <td>74249.000000</td>\n",
              "      <td>200000.000000</td>\n",
              "      <td>2777.000000</td>\n",
              "      <td>40.325016</td>\n",
              "      <td>-2.000000e-08</td>\n",
              "      <td>669.000000</td>\n",
              "      <td>99.000000</td>\n",
              "      <td>80.000000</td>\n",
              "      <td>11469.000000</td>\n",
              "      <td>2013.000000</td>\n",
              "    </tr>\n",
              "  </tbody>\n",
              "</table>\n",
              "</div>"
            ],
            "text/plain": [
              "                 id     amount_tsh  ...    population  construction_year\n",
              "count  14850.000000   14850.000000  ...  14850.000000       14850.000000\n",
              "mean   37161.972929     322.826983  ...    184.114209        1289.708350\n",
              "std    21359.364833    2510.968644  ...    469.499332         955.241087\n",
              "min       10.000000       0.000000  ...      0.000000           0.000000\n",
              "25%    18727.000000       0.000000  ...      0.000000           0.000000\n",
              "50%    37361.500000       0.000000  ...     20.000000        1986.000000\n",
              "75%    55799.750000      25.000000  ...    220.000000        2004.000000\n",
              "max    74249.000000  200000.000000  ...  11469.000000        2013.000000\n",
              "\n",
              "[8 rows x 10 columns]"
            ]
          },
          "metadata": {},
          "execution_count": 342
        }
      ]
    },
    {
      "cell_type": "markdown",
      "metadata": {
        "id": "2aOZSxa_XUta"
      },
      "source": [
        "In summary, there are"
      ]
    },
    {
      "cell_type": "code",
      "metadata": {
        "colab": {
          "base_uri": "https://localhost:8080/"
        },
        "id": "Y_dd13-RXZIo",
        "outputId": "a0107cef-b8e8-4461-d458-54d9aa0969b3"
      },
      "source": [
        "print(f\"{train_feats.shape[0]} training data\")\n",
        "print(f\"{train_feats.shape[1]} original features\")\n",
        "print(f\"{test_feats.shape[0]} test data\")"
      ],
      "execution_count": 343,
      "outputs": [
        {
          "output_type": "stream",
          "name": "stdout",
          "text": [
            "59400 training data\n",
            "40 original features\n",
            "14850 test data\n"
          ]
        }
      ]
    },
    {
      "cell_type": "markdown",
      "metadata": {
        "id": "wZhk879ZYmJI"
      },
      "source": [
        "# Part 2 : Analyzing Data"
      ]
    },
    {
      "cell_type": "markdown",
      "metadata": {
        "id": "qDuwp1ZQOCWY"
      },
      "source": [
        "First, let us see how many waterpoints are there in each category in the training set. "
      ]
    },
    {
      "cell_type": "code",
      "metadata": {
        "colab": {
          "base_uri": "https://localhost:8080/",
          "height": 388
        },
        "id": "fju8T67YOMvr",
        "outputId": "8047ff15-fb41-428f-8677-4b5702606e61"
      },
      "source": [
        "colors = sns.color_palette()[:3]\n",
        "train_labels.status_group.value_counts().plot.bar(color=colors)"
      ],
      "execution_count": 344,
      "outputs": [
        {
          "output_type": "execute_result",
          "data": {
            "text/plain": [
              "<matplotlib.axes._subplots.AxesSubplot at 0x7fb11b534710>"
            ]
          },
          "metadata": {},
          "execution_count": 344
        },
        {
          "output_type": "display_data",
          "data": {
            "image/png": "[encoded data removed]",
            "text/plain": [
              "<Figure size 432x288 with 1 Axes>"
            ]
          },
          "metadata": {
            "needs_background": "light"
          }
        }
      ]
    },
    {
      "cell_type": "markdown",
      "metadata": {
        "id": "9K2As6I2QOmh"
      },
      "source": [
        "Seems like the most of them are 'functional'. Least are 'functional needs repair'."
      ]
    },
    {
      "cell_type": "markdown",
      "metadata": {
        "id": "81DzvAkyYq7x"
      },
      "source": [
        "Now let us analyze about the features in the dataset in more detail. As you know, the dataset is about waterpoints in Tanzania."
      ]
    },
    {
      "cell_type": "markdown",
      "metadata": {
        "id": "v7z2Oo4iaqIC"
      },
      "source": [
        "Following are the feature column names:"
      ]
    },
    {
      "cell_type": "code",
      "metadata": {
        "colab": {
          "base_uri": "https://localhost:8080/"
        },
        "id": "beOhcej0aukx",
        "outputId": "51ccbe31-ea07-4152-a746-a7e3df2012e1"
      },
      "source": [
        "train_feats.columns"
      ],
      "execution_count": 345,
      "outputs": [
        {
          "output_type": "execute_result",
          "data": {
            "text/plain": [
              "Index(['id', 'amount_tsh', 'date_recorded', 'funder', 'gps_height',\n",
              "       'installer', 'longitude', 'latitude', 'wpt_name', 'num_private',\n",
              "       'basin', 'subvillage', 'region', 'region_code', 'district_code', 'lga',\n",
              "       'ward', 'population', 'public_meeting', 'recorded_by',\n",
              "       'scheme_management', 'scheme_name', 'permit', 'construction_year',\n",
              "       'extraction_type', 'extraction_type_group', 'extraction_type_class',\n",
              "       'management', 'management_group', 'payment', 'payment_type',\n",
              "       'water_quality', 'quality_group', 'quantity', 'quantity_group',\n",
              "       'source', 'source_type', 'source_class', 'waterpoint_type',\n",
              "       'waterpoint_type_group'],\n",
              "      dtype='object')"
            ]
          },
          "metadata": {},
          "execution_count": 345
        }
      ]
    },
    {
      "cell_type": "markdown",
      "metadata": {
        "id": "2uoJNwFVhrsr"
      },
      "source": [
        "Now let us see what are the data types of these feature columns."
      ]
    },
    {
      "cell_type": "code",
      "metadata": {
        "colab": {
          "base_uri": "https://localhost:8080/"
        },
        "id": "256TrjQ5hwly",
        "outputId": "a9d3f600-cb9e-405b-d22c-1c5d6543173a"
      },
      "source": [
        "train_feats.dtypes"
      ],
      "execution_count": 346,
      "outputs": [
        {
          "output_type": "execute_result",
          "data": {
            "text/plain": [
              "id                         int64\n",
              "amount_tsh               float64\n",
              "date_recorded             object\n",
              "funder                    object\n",
              "gps_height                 int64\n",
              "installer                 object\n",
              "longitude                float64\n",
              "latitude                 float64\n",
              "wpt_name                  object\n",
              "num_private                int64\n",
              "basin                     object\n",
              "subvillage                object\n",
              "region                    object\n",
              "region_code                int64\n",
              "district_code              int64\n",
              "lga                       object\n",
              "ward                      object\n",
              "population                 int64\n",
              "public_meeting            object\n",
              "recorded_by               object\n",
              "scheme_management         object\n",
              "scheme_name               object\n",
              "permit                    object\n",
              "construction_year          int64\n",
              "extraction_type           object\n",
              "extraction_type_group     object\n",
              "extraction_type_class     object\n",
              "management                object\n",
              "management_group          object\n",
              "payment                   object\n",
              "payment_type              object\n",
              "water_quality             object\n",
              "quality_group             object\n",
              "quantity                  object\n",
              "quantity_group            object\n",
              "source                    object\n",
              "source_type               object\n",
              "source_class              object\n",
              "waterpoint_type           object\n",
              "waterpoint_type_group     object\n",
              "dtype: object"
            ]
          },
          "metadata": {},
          "execution_count": 346
        }
      ]
    },
    {
      "cell_type": "markdown",
      "metadata": {
        "id": "8krwRJ0gi1TC"
      },
      "source": [
        "It seems like many features are categorical as their data type is ```object```."
      ]
    },
    {
      "cell_type": "markdown",
      "metadata": {
        "id": "RyJxocz3TNGx"
      },
      "source": [
        "# Part 3: Data Preprocessing"
      ]
    },
    {
      "cell_type": "markdown",
      "metadata": {
        "id": "KXr_WbICTXTB"
      },
      "source": [
        "Let us check in which columns are there missing values. Note that missing values can be null, and in some cases 0 might represent missing data as well. Before starting off, we shall combine the train and test feature sets to a single dataframe for preprocessing purposes."
      ]
    },
    {
      "cell_type": "code",
      "metadata": {
        "colab": {
          "base_uri": "https://localhost:8080/"
        },
        "id": "s8DGYwoRUIrZ",
        "outputId": "5f171383-68ba-4424-ed21-6df290a36103"
      },
      "source": [
        "comb_feats = train_feats.append(test_feats)\n",
        "comb_feats.shape"
      ],
      "execution_count": 347,
      "outputs": [
        {
          "output_type": "execute_result",
          "data": {
            "text/plain": [
              "(74250, 40)"
            ]
          },
          "metadata": {},
          "execution_count": 347
        }
      ]
    },
    {
      "cell_type": "markdown",
      "metadata": {
        "id": "1jUq-d2MTrOx"
      },
      "source": [
        "First let us consider null values. Following are the columns which have null values."
      ]
    },
    {
      "cell_type": "code",
      "metadata": {
        "colab": {
          "base_uri": "https://localhost:8080/"
        },
        "id": "75bfhlqdT3sk",
        "outputId": "25ef8d2c-5c2f-4c1f-e612-e9c0047829a2"
      },
      "source": [
        "cols_with_null = comb_feats.columns[comb_feats.isna().any()].tolist()\n",
        "cols_with_null"
      ],
      "execution_count": 348,
      "outputs": [
        {
          "output_type": "execute_result",
          "data": {
            "text/plain": [
              "['funder',\n",
              " 'installer',\n",
              " 'subvillage',\n",
              " 'public_meeting',\n",
              " 'scheme_management',\n",
              " 'scheme_name',\n",
              " 'permit']"
            ]
          },
          "metadata": {},
          "execution_count": 348
        }
      ]
    },
    {
      "cell_type": "code",
      "metadata": {
        "colab": {
          "base_uri": "https://localhost:8080/",
          "height": 173
        },
        "id": "fZuRoTnMXQYt",
        "outputId": "1c92977c-eee0-4146-cca1-e4d9a88bb53f"
      },
      "source": [
        "comb_feats[cols_with_null].describe()"
      ],
      "execution_count": 349,
      "outputs": [
        {
          "output_type": "execute_result",
          "data": {
            "text/html": [
              "<div>\n",
              "<style scoped>\n",
              "    .dataframe tbody tr th:only-of-type {\n",
              "        vertical-align: middle;\n",
              "    }\n",
              "\n",
              "    .dataframe tbody tr th {\n",
              "        vertical-align: top;\n",
              "    }\n",
              "\n",
              "    .dataframe thead th {\n",
              "        text-align: right;\n",
              "    }\n",
              "</style>\n",
              "<table border=\"1\" class=\"dataframe\">\n",
              "  <thead>\n",
              "    <tr style=\"text-align: right;\">\n",
              "      <th></th>\n",
              "      <th>funder</th>\n",
              "      <th>installer</th>\n",
              "      <th>subvillage</th>\n",
              "      <th>public_meeting</th>\n",
              "      <th>scheme_management</th>\n",
              "      <th>scheme_name</th>\n",
              "      <th>permit</th>\n",
              "    </tr>\n",
              "  </thead>\n",
              "  <tbody>\n",
              "    <tr>\n",
              "      <th>count</th>\n",
              "      <td>69746</td>\n",
              "      <td>69718</td>\n",
              "      <td>73780</td>\n",
              "      <td>70095</td>\n",
              "      <td>69404</td>\n",
              "      <td>38992</td>\n",
              "      <td>70457</td>\n",
              "    </tr>\n",
              "    <tr>\n",
              "      <th>unique</th>\n",
              "      <td>2140</td>\n",
              "      <td>2410</td>\n",
              "      <td>21425</td>\n",
              "      <td>2</td>\n",
              "      <td>12</td>\n",
              "      <td>2868</td>\n",
              "      <td>2</td>\n",
              "    </tr>\n",
              "    <tr>\n",
              "      <th>top</th>\n",
              "      <td>Government Of Tanzania</td>\n",
              "      <td>DWE</td>\n",
              "      <td>Shuleni</td>\n",
              "      <td>True</td>\n",
              "      <td>VWC</td>\n",
              "      <td>K</td>\n",
              "      <td>True</td>\n",
              "    </tr>\n",
              "    <tr>\n",
              "      <th>freq</th>\n",
              "      <td>11299</td>\n",
              "      <td>21751</td>\n",
              "      <td>646</td>\n",
              "      <td>63749</td>\n",
              "      <td>45917</td>\n",
              "      <td>858</td>\n",
              "      <td>48606</td>\n",
              "    </tr>\n",
              "  </tbody>\n",
              "</table>\n",
              "</div>"
            ],
            "text/plain": [
              "                        funder installer  ... scheme_name permit\n",
              "count                    69746     69718  ...       38992  70457\n",
              "unique                    2140      2410  ...        2868      2\n",
              "top     Government Of Tanzania       DWE  ...           K   True\n",
              "freq                     11299     21751  ...         858  48606\n",
              "\n",
              "[4 rows x 7 columns]"
            ]
          },
          "metadata": {},
          "execution_count": 349
        }
      ]
    },
    {
      "cell_type": "markdown",
      "metadata": {
        "id": "-eRGPSSXVdZv"
      },
      "source": [
        "Since all the above columns are categorical, a better approach I think is to impute missing values with the most frequent value in the corresponding column."
      ]
    },
    {
      "cell_type": "code",
      "metadata": {
        "id": "kNXk1fb5V3oU"
      },
      "source": [
        "valuesToFill = {}\n",
        "for col in cols_with_null:\n",
        "  mostFreqVal = comb_feats[col].mode()[0]\n",
        "  valuesToFill[col] = mostFreqVal\n",
        "\n",
        "comb_feats = comb_feats.fillna(value=valuesToFill)"
      ],
      "execution_count": 350,
      "outputs": []
    },
    {
      "cell_type": "markdown",
      "metadata": {
        "id": "ZSQgYGPGW72i"
      },
      "source": [
        "Now let us check how the dataset looks like after imputing null values."
      ]
    },
    {
      "cell_type": "code",
      "metadata": {
        "colab": {
          "base_uri": "https://localhost:8080/",
          "height": 173
        },
        "id": "UHmjBQgOXEuT",
        "outputId": "05d28898-9f60-40f0-df58-cdd25238824e"
      },
      "source": [
        "comb_feats[cols_with_null].describe()"
      ],
      "execution_count": 351,
      "outputs": [
        {
          "output_type": "execute_result",
          "data": {
            "text/html": [
              "<div>\n",
              "<style scoped>\n",
              "    .dataframe tbody tr th:only-of-type {\n",
              "        vertical-align: middle;\n",
              "    }\n",
              "\n",
              "    .dataframe tbody tr th {\n",
              "        vertical-align: top;\n",
              "    }\n",
              "\n",
              "    .dataframe thead th {\n",
              "        text-align: right;\n",
              "    }\n",
              "</style>\n",
              "<table border=\"1\" class=\"dataframe\">\n",
              "  <thead>\n",
              "    <tr style=\"text-align: right;\">\n",
              "      <th></th>\n",
              "      <th>funder</th>\n",
              "      <th>installer</th>\n",
              "      <th>subvillage</th>\n",
              "      <th>public_meeting</th>\n",
              "      <th>scheme_management</th>\n",
              "      <th>scheme_name</th>\n",
              "      <th>permit</th>\n",
              "    </tr>\n",
              "  </thead>\n",
              "  <tbody>\n",
              "    <tr>\n",
              "      <th>count</th>\n",
              "      <td>74250</td>\n",
              "      <td>74250</td>\n",
              "      <td>74250</td>\n",
              "      <td>74250</td>\n",
              "      <td>74250</td>\n",
              "      <td>74250</td>\n",
              "      <td>74250</td>\n",
              "    </tr>\n",
              "    <tr>\n",
              "      <th>unique</th>\n",
              "      <td>2140</td>\n",
              "      <td>2410</td>\n",
              "      <td>21425</td>\n",
              "      <td>2</td>\n",
              "      <td>12</td>\n",
              "      <td>2868</td>\n",
              "      <td>2</td>\n",
              "    </tr>\n",
              "    <tr>\n",
              "      <th>top</th>\n",
              "      <td>Government Of Tanzania</td>\n",
              "      <td>DWE</td>\n",
              "      <td>Shuleni</td>\n",
              "      <td>True</td>\n",
              "      <td>VWC</td>\n",
              "      <td>K</td>\n",
              "      <td>True</td>\n",
              "    </tr>\n",
              "    <tr>\n",
              "      <th>freq</th>\n",
              "      <td>15803</td>\n",
              "      <td>26283</td>\n",
              "      <td>1116</td>\n",
              "      <td>67904</td>\n",
              "      <td>50763</td>\n",
              "      <td>36116</td>\n",
              "      <td>52399</td>\n",
              "    </tr>\n",
              "  </tbody>\n",
              "</table>\n",
              "</div>"
            ],
            "text/plain": [
              "                        funder installer  ... scheme_name permit\n",
              "count                    74250     74250  ...       74250  74250\n",
              "unique                    2140      2410  ...        2868      2\n",
              "top     Government Of Tanzania       DWE  ...           K   True\n",
              "freq                     15803     26283  ...       36116  52399\n",
              "\n",
              "[4 rows x 7 columns]"
            ]
          },
          "metadata": {},
          "execution_count": 351
        }
      ]
    },
    {
      "cell_type": "markdown",
      "metadata": {
        "id": "YgLpr20Uak6s"
      },
      "source": [
        "Since `public_meeting` and `permit` are supposed to be `bool` fields, let us make sure now they are so."
      ]
    },
    {
      "cell_type": "code",
      "metadata": {
        "colab": {
          "base_uri": "https://localhost:8080/"
        },
        "id": "nAPrAPN0avlz",
        "outputId": "2cde36b3-eebc-4021-bb59-8c9aae638a91"
      },
      "source": [
        "comb_feats[['public_meeting', 'permit']].dtypes"
      ],
      "execution_count": 352,
      "outputs": [
        {
          "output_type": "execute_result",
          "data": {
            "text/plain": [
              "public_meeting    bool\n",
              "permit            bool\n",
              "dtype: object"
            ]
          },
          "metadata": {},
          "execution_count": 352
        }
      ]
    },
    {
      "cell_type": "markdown",
      "metadata": {
        "id": "rOs4cBKxddGN"
      },
      "source": [
        "Now let us consider about numerical columns whose values being 0 can represent missing values. First, following are the numerical columns."
      ]
    },
    {
      "cell_type": "code",
      "metadata": {
        "colab": {
          "base_uri": "https://localhost:8080/"
        },
        "id": "0AUHFmLIdwVr",
        "outputId": "33700df0-1a3a-4384-cf3c-eb7b6e4e4a35"
      },
      "source": [
        "num_cols = comb_feats.select_dtypes(include=['int64', 'float64']).columns\n",
        "comb_feats[num_cols].dtypes"
      ],
      "execution_count": 353,
      "outputs": [
        {
          "output_type": "execute_result",
          "data": {
            "text/plain": [
              "id                     int64\n",
              "amount_tsh           float64\n",
              "gps_height             int64\n",
              "longitude            float64\n",
              "latitude             float64\n",
              "num_private            int64\n",
              "region_code            int64\n",
              "district_code          int64\n",
              "population             int64\n",
              "construction_year      int64\n",
              "dtype: object"
            ]
          },
          "metadata": {},
          "execution_count": 353
        }
      ]
    },
    {
      "cell_type": "code",
      "metadata": {
        "colab": {
          "base_uri": "https://localhost:8080/",
          "height": 317
        },
        "id": "REQD4g8RedGW",
        "outputId": "a1cdce6f-1cc5-4150-b80d-522ea80cd8ce"
      },
      "source": [
        "comb_feats[num_cols].describe()"
      ],
      "execution_count": 354,
      "outputs": [
        {
          "output_type": "execute_result",
          "data": {
            "text/html": [
              "<div>\n",
              "<style scoped>\n",
              "    .dataframe tbody tr th:only-of-type {\n",
              "        vertical-align: middle;\n",
              "    }\n",
              "\n",
              "    .dataframe tbody tr th {\n",
              "        vertical-align: top;\n",
              "    }\n",
              "\n",
              "    .dataframe thead th {\n",
              "        text-align: right;\n",
              "    }\n",
              "</style>\n",
              "<table border=\"1\" class=\"dataframe\">\n",
              "  <thead>\n",
              "    <tr style=\"text-align: right;\">\n",
              "      <th></th>\n",
              "      <th>id</th>\n",
              "      <th>amount_tsh</th>\n",
              "      <th>gps_height</th>\n",
              "      <th>longitude</th>\n",
              "      <th>latitude</th>\n",
              "      <th>num_private</th>\n",
              "      <th>region_code</th>\n",
              "      <th>district_code</th>\n",
              "      <th>population</th>\n",
              "      <th>construction_year</th>\n",
              "    </tr>\n",
              "  </thead>\n",
              "  <tbody>\n",
              "    <tr>\n",
              "      <th>count</th>\n",
              "      <td>74250.000000</td>\n",
              "      <td>74250.000000</td>\n",
              "      <td>74250.000000</td>\n",
              "      <td>74250.000000</td>\n",
              "      <td>7.425000e+04</td>\n",
              "      <td>74250.000000</td>\n",
              "      <td>74250.000000</td>\n",
              "      <td>74250.000000</td>\n",
              "      <td>74250.000000</td>\n",
              "      <td>74250.000000</td>\n",
              "    </tr>\n",
              "    <tr>\n",
              "      <th>mean</th>\n",
              "      <td>37124.500000</td>\n",
              "      <td>318.685704</td>\n",
              "      <td>665.667313</td>\n",
              "      <td>34.074262</td>\n",
              "      <td>-5.701771e+00</td>\n",
              "      <td>0.462330</td>\n",
              "      <td>15.265414</td>\n",
              "      <td>5.629077</td>\n",
              "      <td>180.750828</td>\n",
              "      <td>1298.463650</td>\n",
              "    </tr>\n",
              "    <tr>\n",
              "      <th>std</th>\n",
              "      <td>21434.273081</td>\n",
              "      <td>2906.762364</td>\n",
              "      <td>692.761033</td>\n",
              "      <td>6.572519</td>\n",
              "      <td>2.944969e+00</td>\n",
              "      <td>11.537879</td>\n",
              "      <td>17.508907</td>\n",
              "      <td>9.641636</td>\n",
              "      <td>471.086120</td>\n",
              "      <td>952.349375</td>\n",
              "    </tr>\n",
              "    <tr>\n",
              "      <th>min</th>\n",
              "      <td>0.000000</td>\n",
              "      <td>0.000000</td>\n",
              "      <td>-90.000000</td>\n",
              "      <td>0.000000</td>\n",
              "      <td>-1.164944e+01</td>\n",
              "      <td>0.000000</td>\n",
              "      <td>1.000000</td>\n",
              "      <td>0.000000</td>\n",
              "      <td>0.000000</td>\n",
              "      <td>0.000000</td>\n",
              "    </tr>\n",
              "    <tr>\n",
              "      <th>25%</th>\n",
              "      <td>18562.250000</td>\n",
              "      <td>0.000000</td>\n",
              "      <td>0.000000</td>\n",
              "      <td>33.086819</td>\n",
              "      <td>-8.525675e+00</td>\n",
              "      <td>0.000000</td>\n",
              "      <td>5.000000</td>\n",
              "      <td>2.000000</td>\n",
              "      <td>0.000000</td>\n",
              "      <td>0.000000</td>\n",
              "    </tr>\n",
              "    <tr>\n",
              "      <th>50%</th>\n",
              "      <td>37124.500000</td>\n",
              "      <td>0.000000</td>\n",
              "      <td>364.000000</td>\n",
              "      <td>34.907475</td>\n",
              "      <td>-5.026540e+00</td>\n",
              "      <td>0.000000</td>\n",
              "      <td>12.000000</td>\n",
              "      <td>3.000000</td>\n",
              "      <td>25.000000</td>\n",
              "      <td>1986.000000</td>\n",
              "    </tr>\n",
              "    <tr>\n",
              "      <th>75%</th>\n",
              "      <td>55686.750000</td>\n",
              "      <td>20.000000</td>\n",
              "      <td>1317.000000</td>\n",
              "      <td>37.181685</td>\n",
              "      <td>-3.325058e+00</td>\n",
              "      <td>0.000000</td>\n",
              "      <td>17.000000</td>\n",
              "      <td>5.000000</td>\n",
              "      <td>215.000000</td>\n",
              "      <td>2004.000000</td>\n",
              "    </tr>\n",
              "    <tr>\n",
              "      <th>max</th>\n",
              "      <td>74249.000000</td>\n",
              "      <td>350000.000000</td>\n",
              "      <td>2777.000000</td>\n",
              "      <td>40.345193</td>\n",
              "      <td>-2.000000e-08</td>\n",
              "      <td>1776.000000</td>\n",
              "      <td>99.000000</td>\n",
              "      <td>80.000000</td>\n",
              "      <td>30500.000000</td>\n",
              "      <td>2013.000000</td>\n",
              "    </tr>\n",
              "  </tbody>\n",
              "</table>\n",
              "</div>"
            ],
            "text/plain": [
              "                 id     amount_tsh  ...    population  construction_year\n",
              "count  74250.000000   74250.000000  ...  74250.000000       74250.000000\n",
              "mean   37124.500000     318.685704  ...    180.750828        1298.463650\n",
              "std    21434.273081    2906.762364  ...    471.086120         952.349375\n",
              "min        0.000000       0.000000  ...      0.000000           0.000000\n",
              "25%    18562.250000       0.000000  ...      0.000000           0.000000\n",
              "50%    37124.500000       0.000000  ...     25.000000        1986.000000\n",
              "75%    55686.750000      20.000000  ...    215.000000        2004.000000\n",
              "max    74249.000000  350000.000000  ...  30500.000000        2013.000000\n",
              "\n",
              "[8 rows x 10 columns]"
            ]
          },
          "metadata": {},
          "execution_count": 354
        }
      ]
    },
    {
      "cell_type": "markdown",
      "metadata": {
        "id": "veXy-EWlgVpG"
      },
      "source": [
        "First, since the column `num_private` gives no significant information, and the Problem Description page does not specify what that is either, let us drop that column."
      ]
    },
    {
      "cell_type": "code",
      "metadata": {
        "colab": {
          "base_uri": "https://localhost:8080/"
        },
        "id": "C_ht2WQBglg8",
        "outputId": "c08e33d0-5078-47a0-eac8-ded8604a240a"
      },
      "source": [
        "if 'num_private' in comb_feats.columns:\n",
        "  comb_feats = comb_feats.drop(columns=['num_private'])\n",
        "num_cols = comb_feats.select_dtypes(include=['int64', 'float64']).columns\n",
        "'num_private' in comb_feats.columns"
      ],
      "execution_count": 355,
      "outputs": [
        {
          "output_type": "execute_result",
          "data": {
            "text/plain": [
              "False"
            ]
          },
          "metadata": {},
          "execution_count": 355
        }
      ]
    },
    {
      "cell_type": "markdown",
      "metadata": {
        "id": "psVku9uVhX92"
      },
      "source": [
        "We can see that the `construction_year` has 0 as minimum value. It is wrong. Let us impute those values with the actual earliest year in the values of `construction_year`."
      ]
    },
    {
      "cell_type": "code",
      "metadata": {
        "colab": {
          "base_uri": "https://localhost:8080/"
        },
        "id": "5SejF3e5hvCm",
        "outputId": "355982e0-6e86-4ac4-fd49-047edc2cc1b2"
      },
      "source": [
        "years = comb_feats.construction_year.unique()\n",
        "years.sort()\n",
        "earliest = years[1]\n",
        "\n",
        "# Impute 0 with earliest in construction_year values\n",
        "comb_feats.loc[comb_feats.construction_year <= 0, comb_feats.columns == 'construction_year'] = earliest\n",
        "\n",
        "comb_feats.construction_year.unique().min()"
      ],
      "execution_count": 356,
      "outputs": [
        {
          "output_type": "execute_result",
          "data": {
            "text/plain": [
              "1960"
            ]
          },
          "metadata": {},
          "execution_count": 356
        }
      ]
    },
    {
      "cell_type": "markdown",
      "metadata": {
        "id": "56Qb_HPtkOv4"
      },
      "source": [
        "The 0 values in `amount_tsh` and `gps_height` could mean valid information. Even though `district_code` has values of 0, we do not impute them with anything because those are 'codes'. And, although `population` has 0 values, we can see that 25% of values of `population` are 0; hence 0 values should not be incorrect. Therefore, we shall leave these columns untouched."
      ]
    },
    {
      "cell_type": "markdown",
      "metadata": {
        "id": "72Dfgi16pFNv"
      },
      "source": [
        "So, we are left to deal with `longitude` and `latitude`. According to GPS coordinates of Tanzania, although latitudes can be below 0, longitudes should be at least over 30. Therefore, any value below that must be incorrect, together with the corresponding latitude value. Let find such records and impute wrong values with the mean of each column, *aggregated by* `region_code`."
      ]
    },
    {
      "cell_type": "code",
      "metadata": {
        "colab": {
          "base_uri": "https://localhost:8080/",
          "height": 419
        },
        "id": "gisr6Qo-pu7h",
        "outputId": "328bc0f1-8a27-4fd1-c79e-91cfeba37160"
      },
      "source": [
        "wrong_longitudes = comb_feats[comb_feats['longitude'] < 30]\n",
        "# First make longitude and latitude values in above records with NaN\n",
        "wrong_longitudes.loc[:, comb_feats.columns == 'longitude'] = np.nan\n",
        "wrong_longitudes.loc[:, comb_feats.columns == 'latitude'] = np.nan\n",
        "# Replace in original set\n",
        "comb_feats[comb_feats['longitude'] < 30] = wrong_longitudes\n",
        "\n",
        "comb_feats[\"longitude\"] = comb_feats.groupby(\"region_code\").transform(lambda x: x.fillna(x.mean())).longitude\n",
        "comb_feats[\"latitude\"] = comb_feats.groupby(\"region_code\").transform(lambda x: x.fillna(x.mean())).latitude\n",
        "\n",
        "comb_feats[num_cols].describe()"
      ],
      "execution_count": 357,
      "outputs": [
        {
          "output_type": "stream",
          "name": "stderr",
          "text": [
            "/usr/local/lib/python3.7/dist-packages/pandas/core/indexing.py:1763: SettingWithCopyWarning: \n",
            "A value is trying to be set on a copy of a slice from a DataFrame.\n",
            "Try using .loc[row_indexer,col_indexer] = value instead\n",
            "\n",
            "See the caveats in the documentation: https://pandas.pydata.org/pandas-docs/stable/user_guide/indexing.html#returning-a-view-versus-a-copy\n",
            "  isetter(loc, value)\n"
          ]
        },
        {
          "output_type": "execute_result",
          "data": {
            "text/html": [
              "<div>\n",
              "<style scoped>\n",
              "    .dataframe tbody tr th:only-of-type {\n",
              "        vertical-align: middle;\n",
              "    }\n",
              "\n",
              "    .dataframe tbody tr th {\n",
              "        vertical-align: top;\n",
              "    }\n",
              "\n",
              "    .dataframe thead th {\n",
              "        text-align: right;\n",
              "    }\n",
              "</style>\n",
              "<table border=\"1\" class=\"dataframe\">\n",
              "  <thead>\n",
              "    <tr style=\"text-align: right;\">\n",
              "      <th></th>\n",
              "      <th>id</th>\n",
              "      <th>amount_tsh</th>\n",
              "      <th>gps_height</th>\n",
              "      <th>longitude</th>\n",
              "      <th>latitude</th>\n",
              "      <th>region_code</th>\n",
              "      <th>district_code</th>\n",
              "      <th>population</th>\n",
              "      <th>construction_year</th>\n",
              "    </tr>\n",
              "  </thead>\n",
              "  <tbody>\n",
              "    <tr>\n",
              "      <th>count</th>\n",
              "      <td>74250.000000</td>\n",
              "      <td>74250.000000</td>\n",
              "      <td>74250.000000</td>\n",
              "      <td>74250.000000</td>\n",
              "      <td>74250.000000</td>\n",
              "      <td>74250.000000</td>\n",
              "      <td>74250.000000</td>\n",
              "      <td>74250.000000</td>\n",
              "      <td>74250.000000</td>\n",
              "    </tr>\n",
              "    <tr>\n",
              "      <th>mean</th>\n",
              "      <td>37124.500000</td>\n",
              "      <td>318.685704</td>\n",
              "      <td>665.667313</td>\n",
              "      <td>35.100069</td>\n",
              "      <td>-5.786177</td>\n",
              "      <td>15.265414</td>\n",
              "      <td>5.629077</td>\n",
              "      <td>180.750828</td>\n",
              "      <td>1983.975300</td>\n",
              "    </tr>\n",
              "    <tr>\n",
              "      <th>std</th>\n",
              "      <td>21434.273081</td>\n",
              "      <td>2906.762364</td>\n",
              "      <td>692.761033</td>\n",
              "      <td>2.568408</td>\n",
              "      <td>2.812485</td>\n",
              "      <td>17.508907</td>\n",
              "      <td>9.641636</td>\n",
              "      <td>471.086120</td>\n",
              "      <td>20.243943</td>\n",
              "    </tr>\n",
              "    <tr>\n",
              "      <th>min</th>\n",
              "      <td>0.000000</td>\n",
              "      <td>0.000000</td>\n",
              "      <td>-90.000000</td>\n",
              "      <td>30.000646</td>\n",
              "      <td>-11.649440</td>\n",
              "      <td>1.000000</td>\n",
              "      <td>0.000000</td>\n",
              "      <td>0.000000</td>\n",
              "      <td>1960.000000</td>\n",
              "    </tr>\n",
              "    <tr>\n",
              "      <th>25%</th>\n",
              "      <td>18562.250000</td>\n",
              "      <td>0.000000</td>\n",
              "      <td>0.000000</td>\n",
              "      <td>33.234470</td>\n",
              "      <td>-8.526075</td>\n",
              "      <td>5.000000</td>\n",
              "      <td>2.000000</td>\n",
              "      <td>0.000000</td>\n",
              "      <td>1960.000000</td>\n",
              "    </tr>\n",
              "    <tr>\n",
              "      <th>50%</th>\n",
              "      <td>37124.500000</td>\n",
              "      <td>0.000000</td>\n",
              "      <td>364.000000</td>\n",
              "      <td>34.907475</td>\n",
              "      <td>-5.022635</td>\n",
              "      <td>12.000000</td>\n",
              "      <td>3.000000</td>\n",
              "      <td>25.000000</td>\n",
              "      <td>1986.000000</td>\n",
              "    </tr>\n",
              "    <tr>\n",
              "      <th>75%</th>\n",
              "      <td>55686.750000</td>\n",
              "      <td>20.000000</td>\n",
              "      <td>1317.000000</td>\n",
              "      <td>37.181685</td>\n",
              "      <td>-3.358985</td>\n",
              "      <td>17.000000</td>\n",
              "      <td>5.000000</td>\n",
              "      <td>215.000000</td>\n",
              "      <td>2004.000000</td>\n",
              "    </tr>\n",
              "    <tr>\n",
              "      <th>max</th>\n",
              "      <td>74249.000000</td>\n",
              "      <td>350000.000000</td>\n",
              "      <td>2777.000000</td>\n",
              "      <td>40.345193</td>\n",
              "      <td>-0.998464</td>\n",
              "      <td>99.000000</td>\n",
              "      <td>80.000000</td>\n",
              "      <td>30500.000000</td>\n",
              "      <td>2013.000000</td>\n",
              "    </tr>\n",
              "  </tbody>\n",
              "</table>\n",
              "</div>"
            ],
            "text/plain": [
              "                 id     amount_tsh  ...    population  construction_year\n",
              "count  74250.000000   74250.000000  ...  74250.000000       74250.000000\n",
              "mean   37124.500000     318.685704  ...    180.750828        1983.975300\n",
              "std    21434.273081    2906.762364  ...    471.086120          20.243943\n",
              "min        0.000000       0.000000  ...      0.000000        1960.000000\n",
              "25%    18562.250000       0.000000  ...      0.000000        1960.000000\n",
              "50%    37124.500000       0.000000  ...     25.000000        1986.000000\n",
              "75%    55686.750000      20.000000  ...    215.000000        2004.000000\n",
              "max    74249.000000  350000.000000  ...  30500.000000        2013.000000\n",
              "\n",
              "[8 rows x 9 columns]"
            ]
          },
          "metadata": {},
          "execution_count": 357
        }
      ]
    },
    {
      "cell_type": "markdown",
      "metadata": {
        "id": "SoHQsRq3xeyw"
      },
      "source": [
        "# Part 4: Feature Engineering"
      ]
    },
    {
      "cell_type": "markdown",
      "metadata": {
        "id": "s-3aohdXxkTB"
      },
      "source": [
        "Now that we have all missing values in our dataset properly treated, it is time to consider Feature Engineering."
      ]
    },
    {
      "cell_type": "markdown",
      "metadata": {
        "id": "3y9npS7Jxy9H"
      },
      "source": [
        "Since there are `construction_year` and `date_recorded` as features, we can create a new feature called `age` to represent how old is the waterpoint."
      ]
    },
    {
      "cell_type": "code",
      "metadata": {
        "colab": {
          "base_uri": "https://localhost:8080/",
          "height": 317
        },
        "id": "kIi--eUGy8sp",
        "outputId": "e3a03e0d-ead2-4df5-bf68-6c37bc699c9f"
      },
      "source": [
        "if 'age' not in comb_feats.columns:\n",
        "  comb_feats['age'] = comb_feats.date_recorded.apply(pd.to_datetime) - comb_feats.construction_year.apply(lambda x: pd.to_datetime(x, format='%Y'))\n",
        "\n",
        "# Divide the age by number of nanoseconds per year, to normalize\n",
        "nanoSecondsPerYear = 365.25*24*60*60*1e9\n",
        "comb_feats['age'] = comb_feats.age.apply(lambda t: t.delta/nanoSecondsPerYear)\n",
        "\n",
        "comb_feats.describe()"
      ],
      "execution_count": 358,
      "outputs": [
        {
          "output_type": "execute_result",
          "data": {
            "text/html": [
              "<div>\n",
              "<style scoped>\n",
              "    .dataframe tbody tr th:only-of-type {\n",
              "        vertical-align: middle;\n",
              "    }\n",
              "\n",
              "    .dataframe tbody tr th {\n",
              "        vertical-align: top;\n",
              "    }\n",
              "\n",
              "    .dataframe thead th {\n",
              "        text-align: right;\n",
              "    }\n",
              "</style>\n",
              "<table border=\"1\" class=\"dataframe\">\n",
              "  <thead>\n",
              "    <tr style=\"text-align: right;\">\n",
              "      <th></th>\n",
              "      <th>id</th>\n",
              "      <th>amount_tsh</th>\n",
              "      <th>gps_height</th>\n",
              "      <th>longitude</th>\n",
              "      <th>latitude</th>\n",
              "      <th>region_code</th>\n",
              "      <th>district_code</th>\n",
              "      <th>population</th>\n",
              "      <th>construction_year</th>\n",
              "      <th>age</th>\n",
              "    </tr>\n",
              "  </thead>\n",
              "  <tbody>\n",
              "    <tr>\n",
              "      <th>count</th>\n",
              "      <td>74250.000000</td>\n",
              "      <td>74250.000000</td>\n",
              "      <td>74250.000000</td>\n",
              "      <td>74250.000000</td>\n",
              "      <td>74250.000000</td>\n",
              "      <td>74250.000000</td>\n",
              "      <td>74250.000000</td>\n",
              "      <td>74250.000000</td>\n",
              "      <td>74250.000000</td>\n",
              "      <td>74250.000000</td>\n",
              "    </tr>\n",
              "    <tr>\n",
              "      <th>mean</th>\n",
              "      <td>37124.500000</td>\n",
              "      <td>318.685704</td>\n",
              "      <td>665.667313</td>\n",
              "      <td>35.100069</td>\n",
              "      <td>-5.786177</td>\n",
              "      <td>15.265414</td>\n",
              "      <td>5.629077</td>\n",
              "      <td>180.750828</td>\n",
              "      <td>1983.975300</td>\n",
              "      <td>28.263407</td>\n",
              "    </tr>\n",
              "    <tr>\n",
              "      <th>std</th>\n",
              "      <td>21434.273081</td>\n",
              "      <td>2906.762364</td>\n",
              "      <td>692.761033</td>\n",
              "      <td>2.568408</td>\n",
              "      <td>2.812485</td>\n",
              "      <td>17.508907</td>\n",
              "      <td>9.641636</td>\n",
              "      <td>471.086120</td>\n",
              "      <td>20.243943</td>\n",
              "      <td>20.073683</td>\n",
              "    </tr>\n",
              "    <tr>\n",
              "      <th>min</th>\n",
              "      <td>0.000000</td>\n",
              "      <td>0.000000</td>\n",
              "      <td>-90.000000</td>\n",
              "      <td>30.000646</td>\n",
              "      <td>-11.649440</td>\n",
              "      <td>1.000000</td>\n",
              "      <td>0.000000</td>\n",
              "      <td>0.000000</td>\n",
              "      <td>1960.000000</td>\n",
              "      <td>-6.584531</td>\n",
              "    </tr>\n",
              "    <tr>\n",
              "      <th>25%</th>\n",
              "      <td>18562.250000</td>\n",
              "      <td>0.000000</td>\n",
              "      <td>0.000000</td>\n",
              "      <td>33.234470</td>\n",
              "      <td>-8.526075</td>\n",
              "      <td>5.000000</td>\n",
              "      <td>2.000000</td>\n",
              "      <td>0.000000</td>\n",
              "      <td>1960.000000</td>\n",
              "      <td>8.145791</td>\n",
              "    </tr>\n",
              "    <tr>\n",
              "      <th>50%</th>\n",
              "      <td>37124.500000</td>\n",
              "      <td>0.000000</td>\n",
              "      <td>364.000000</td>\n",
              "      <td>34.907475</td>\n",
              "      <td>-5.022635</td>\n",
              "      <td>12.000000</td>\n",
              "      <td>3.000000</td>\n",
              "      <td>25.000000</td>\n",
              "      <td>1986.000000</td>\n",
              "      <td>26.190281</td>\n",
              "    </tr>\n",
              "    <tr>\n",
              "      <th>75%</th>\n",
              "      <td>55686.750000</td>\n",
              "      <td>20.000000</td>\n",
              "      <td>1317.000000</td>\n",
              "      <td>37.181685</td>\n",
              "      <td>-3.358985</td>\n",
              "      <td>17.000000</td>\n",
              "      <td>5.000000</td>\n",
              "      <td>215.000000</td>\n",
              "      <td>2004.000000</td>\n",
              "      <td>51.518138</td>\n",
              "    </tr>\n",
              "    <tr>\n",
              "      <th>max</th>\n",
              "      <td>74249.000000</td>\n",
              "      <td>350000.000000</td>\n",
              "      <td>2777.000000</td>\n",
              "      <td>40.345193</td>\n",
              "      <td>-0.998464</td>\n",
              "      <td>99.000000</td>\n",
              "      <td>80.000000</td>\n",
              "      <td>30500.000000</td>\n",
              "      <td>2013.000000</td>\n",
              "      <td>53.921971</td>\n",
              "    </tr>\n",
              "  </tbody>\n",
              "</table>\n",
              "</div>"
            ],
            "text/plain": [
              "                 id     amount_tsh  ...  construction_year           age\n",
              "count  74250.000000   74250.000000  ...       74250.000000  74250.000000\n",
              "mean   37124.500000     318.685704  ...        1983.975300     28.263407\n",
              "std    21434.273081    2906.762364  ...          20.243943     20.073683\n",
              "min        0.000000       0.000000  ...        1960.000000     -6.584531\n",
              "25%    18562.250000       0.000000  ...        1960.000000      8.145791\n",
              "50%    37124.500000       0.000000  ...        1986.000000     26.190281\n",
              "75%    55686.750000      20.000000  ...        2004.000000     51.518138\n",
              "max    74249.000000  350000.000000  ...        2013.000000     53.921971\n",
              "\n",
              "[8 rows x 10 columns]"
            ]
          },
          "metadata": {},
          "execution_count": 358
        }
      ]
    },
    {
      "cell_type": "markdown",
      "metadata": {
        "id": "jcYpyFXr5EH5"
      },
      "source": [
        "It is surprising to see that there are records whose `age` is less than 0 - which should mean that they were recorded even before they were constructed! Let us see how many such records are there."
      ]
    },
    {
      "cell_type": "code",
      "metadata": {
        "colab": {
          "base_uri": "https://localhost:8080/",
          "height": 204
        },
        "id": "T7G0qw3t4Hri",
        "outputId": "a457220e-3902-4b3a-d046-e07292de4f08"
      },
      "source": [
        "comb_feats[comb_feats['age'] < 0][['construction_year', 'date_recorded', 'age']].head()"
      ],
      "execution_count": 359,
      "outputs": [
        {
          "output_type": "execute_result",
          "data": {
            "text/html": [
              "<div>\n",
              "<style scoped>\n",
              "    .dataframe tbody tr th:only-of-type {\n",
              "        vertical-align: middle;\n",
              "    }\n",
              "\n",
              "    .dataframe tbody tr th {\n",
              "        vertical-align: top;\n",
              "    }\n",
              "\n",
              "    .dataframe thead th {\n",
              "        text-align: right;\n",
              "    }\n",
              "</style>\n",
              "<table border=\"1\" class=\"dataframe\">\n",
              "  <thead>\n",
              "    <tr style=\"text-align: right;\">\n",
              "      <th></th>\n",
              "      <th>construction_year</th>\n",
              "      <th>date_recorded</th>\n",
              "      <th>age</th>\n",
              "    </tr>\n",
              "  </thead>\n",
              "  <tbody>\n",
              "    <tr>\n",
              "      <th>8729</th>\n",
              "      <td>2008</td>\n",
              "      <td>2004-05-01</td>\n",
              "      <td>-3.668720</td>\n",
              "    </tr>\n",
              "    <tr>\n",
              "      <th>10441</th>\n",
              "      <td>2006</td>\n",
              "      <td>2004-12-01</td>\n",
              "      <td>-1.084189</td>\n",
              "    </tr>\n",
              "    <tr>\n",
              "      <th>13366</th>\n",
              "      <td>2011</td>\n",
              "      <td>2004-06-01</td>\n",
              "      <td>-6.584531</td>\n",
              "    </tr>\n",
              "    <tr>\n",
              "      <th>23373</th>\n",
              "      <td>2009</td>\n",
              "      <td>2004-03-01</td>\n",
              "      <td>-4.837782</td>\n",
              "    </tr>\n",
              "    <tr>\n",
              "      <th>27501</th>\n",
              "      <td>2009</td>\n",
              "      <td>2004-01-07</td>\n",
              "      <td>-4.985626</td>\n",
              "    </tr>\n",
              "  </tbody>\n",
              "</table>\n",
              "</div>"
            ],
            "text/plain": [
              "       construction_year date_recorded       age\n",
              "8729                2008    2004-05-01 -3.668720\n",
              "10441               2006    2004-12-01 -1.084189\n",
              "13366               2011    2004-06-01 -6.584531\n",
              "23373               2009    2004-03-01 -4.837782\n",
              "27501               2009    2004-01-07 -4.985626"
            ]
          },
          "metadata": {},
          "execution_count": 359
        }
      ]
    },
    {
      "cell_type": "markdown",
      "metadata": {
        "id": "EBglReuv6LVx"
      },
      "source": [
        "Since there are only 5 out of 74250 records, the impact is really small. Therefore, as a remedy, let us modify the `date_recorded` in the above records to the latest value in `date_recorded` in the dataset. Then we must again apply making of `age` values."
      ]
    },
    {
      "cell_type": "code",
      "metadata": {
        "colab": {
          "base_uri": "https://localhost:8080/",
          "height": 317
        },
        "id": "TI3dRbe_3TQF",
        "outputId": "3106c59d-024d-40f4-cfb8-1bdb42dcc5a0"
      },
      "source": [
        "dates = comb_feats['date_recorded'].unique()\n",
        "dates.sort()\n",
        "latest = dates[-1]\n",
        "latest\n",
        "\n",
        "comb_feats.loc[comb_feats['age'] < 0, ['date_recorded']] = latest\n",
        "\n",
        "comb_feats['age'] = comb_feats.date_recorded.apply(pd.to_datetime) - comb_feats.construction_year.apply(lambda x: pd.to_datetime(x, format='%Y'))\n",
        "\n",
        "# Divide the age by number of nanoseconds per year, to normalize\n",
        "nanoSecondsPerYear = 365.25*24*60*60*1e9\n",
        "comb_feats['age'] = comb_feats.age.apply(lambda t: t.delta/nanoSecondsPerYear)\n",
        "\n",
        "comb_feats.describe()"
      ],
      "execution_count": 360,
      "outputs": [
        {
          "output_type": "execute_result",
          "data": {
            "text/html": [
              "<div>\n",
              "<style scoped>\n",
              "    .dataframe tbody tr th:only-of-type {\n",
              "        vertical-align: middle;\n",
              "    }\n",
              "\n",
              "    .dataframe tbody tr th {\n",
              "        vertical-align: top;\n",
              "    }\n",
              "\n",
              "    .dataframe thead th {\n",
              "        text-align: right;\n",
              "    }\n",
              "</style>\n",
              "<table border=\"1\" class=\"dataframe\">\n",
              "  <thead>\n",
              "    <tr style=\"text-align: right;\">\n",
              "      <th></th>\n",
              "      <th>id</th>\n",
              "      <th>amount_tsh</th>\n",
              "      <th>gps_height</th>\n",
              "      <th>longitude</th>\n",
              "      <th>latitude</th>\n",
              "      <th>region_code</th>\n",
              "      <th>district_code</th>\n",
              "      <th>population</th>\n",
              "      <th>construction_year</th>\n",
              "      <th>age</th>\n",
              "    </tr>\n",
              "  </thead>\n",
              "  <tbody>\n",
              "    <tr>\n",
              "      <th>count</th>\n",
              "      <td>74250.000000</td>\n",
              "      <td>74250.000000</td>\n",
              "      <td>74250.000000</td>\n",
              "      <td>74250.000000</td>\n",
              "      <td>74250.000000</td>\n",
              "      <td>74250.000000</td>\n",
              "      <td>74250.000000</td>\n",
              "      <td>74250.000000</td>\n",
              "      <td>74250.000000</td>\n",
              "      <td>74250.000000</td>\n",
              "    </tr>\n",
              "    <tr>\n",
              "      <th>mean</th>\n",
              "      <td>37124.500000</td>\n",
              "      <td>318.685704</td>\n",
              "      <td>665.667313</td>\n",
              "      <td>35.100069</td>\n",
              "      <td>-5.786177</td>\n",
              "      <td>15.265414</td>\n",
              "      <td>5.629077</td>\n",
              "      <td>180.750828</td>\n",
              "      <td>1983.975300</td>\n",
              "      <td>28.264956</td>\n",
              "    </tr>\n",
              "    <tr>\n",
              "      <th>std</th>\n",
              "      <td>21434.273081</td>\n",
              "      <td>2906.762364</td>\n",
              "      <td>692.761033</td>\n",
              "      <td>2.568408</td>\n",
              "      <td>2.812485</td>\n",
              "      <td>17.508907</td>\n",
              "      <td>9.641636</td>\n",
              "      <td>471.086120</td>\n",
              "      <td>20.243943</td>\n",
              "      <td>20.071583</td>\n",
              "    </tr>\n",
              "    <tr>\n",
              "      <th>min</th>\n",
              "      <td>0.000000</td>\n",
              "      <td>0.000000</td>\n",
              "      <td>-90.000000</td>\n",
              "      <td>30.000646</td>\n",
              "      <td>-11.649440</td>\n",
              "      <td>1.000000</td>\n",
              "      <td>0.000000</td>\n",
              "      <td>0.000000</td>\n",
              "      <td>1960.000000</td>\n",
              "      <td>0.005476</td>\n",
              "    </tr>\n",
              "    <tr>\n",
              "      <th>25%</th>\n",
              "      <td>18562.250000</td>\n",
              "      <td>0.000000</td>\n",
              "      <td>0.000000</td>\n",
              "      <td>33.234470</td>\n",
              "      <td>-8.526075</td>\n",
              "      <td>5.000000</td>\n",
              "      <td>2.000000</td>\n",
              "      <td>0.000000</td>\n",
              "      <td>1960.000000</td>\n",
              "      <td>8.147844</td>\n",
              "    </tr>\n",
              "    <tr>\n",
              "      <th>50%</th>\n",
              "      <td>37124.500000</td>\n",
              "      <td>0.000000</td>\n",
              "      <td>364.000000</td>\n",
              "      <td>34.907475</td>\n",
              "      <td>-5.022635</td>\n",
              "      <td>12.000000</td>\n",
              "      <td>3.000000</td>\n",
              "      <td>25.000000</td>\n",
              "      <td>1986.000000</td>\n",
              "      <td>26.190281</td>\n",
              "    </tr>\n",
              "    <tr>\n",
              "      <th>75%</th>\n",
              "      <td>55686.750000</td>\n",
              "      <td>20.000000</td>\n",
              "      <td>1317.000000</td>\n",
              "      <td>37.181685</td>\n",
              "      <td>-3.358985</td>\n",
              "      <td>17.000000</td>\n",
              "      <td>5.000000</td>\n",
              "      <td>215.000000</td>\n",
              "      <td>2004.000000</td>\n",
              "      <td>51.518138</td>\n",
              "    </tr>\n",
              "    <tr>\n",
              "      <th>max</th>\n",
              "      <td>74249.000000</td>\n",
              "      <td>350000.000000</td>\n",
              "      <td>2777.000000</td>\n",
              "      <td>40.345193</td>\n",
              "      <td>-0.998464</td>\n",
              "      <td>99.000000</td>\n",
              "      <td>80.000000</td>\n",
              "      <td>30500.000000</td>\n",
              "      <td>2013.000000</td>\n",
              "      <td>53.921971</td>\n",
              "    </tr>\n",
              "  </tbody>\n",
              "</table>\n",
              "</div>"
            ],
            "text/plain": [
              "                 id     amount_tsh  ...  construction_year           age\n",
              "count  74250.000000   74250.000000  ...       74250.000000  74250.000000\n",
              "mean   37124.500000     318.685704  ...        1983.975300     28.264956\n",
              "std    21434.273081    2906.762364  ...          20.243943     20.071583\n",
              "min        0.000000       0.000000  ...        1960.000000      0.005476\n",
              "25%    18562.250000       0.000000  ...        1960.000000      8.147844\n",
              "50%    37124.500000       0.000000  ...        1986.000000     26.190281\n",
              "75%    55686.750000      20.000000  ...        2004.000000     51.518138\n",
              "max    74249.000000  350000.000000  ...        2013.000000     53.921971\n",
              "\n",
              "[8 rows x 10 columns]"
            ]
          },
          "metadata": {},
          "execution_count": 360
        }
      ]
    },
    {
      "cell_type": "markdown",
      "metadata": {
        "id": "mitP7sLeF112"
      },
      "source": [
        "As two other features, let as have `year_recorded` and `month_recorded` as separate features, created using `date_recorded`. "
      ]
    },
    {
      "cell_type": "code",
      "metadata": {
        "colab": {
          "base_uri": "https://localhost:8080/",
          "height": 411
        },
        "id": "w9uXieesGF97",
        "outputId": "9f8f8e65-4b69-4883-fd4f-e4d099bec04c"
      },
      "source": [
        "comb_feats['year_recorded'] = pd.to_datetime(comb_feats.date_recorded).dt.year\n",
        "comb_feats['month_recorded'] = pd.to_datetime(comb_feats.date_recorded).dt.month\n",
        "\n",
        "comb_feats.head()"
      ],
      "execution_count": 361,
      "outputs": [
        {
          "output_type": "execute_result",
          "data": {
            "text/html": [
              "<div>\n",
              "<style scoped>\n",
              "    .dataframe tbody tr th:only-of-type {\n",
              "        vertical-align: middle;\n",
              "    }\n",
              "\n",
              "    .dataframe tbody tr th {\n",
              "        vertical-align: top;\n",
              "    }\n",
              "\n",
              "    .dataframe thead th {\n",
              "        text-align: right;\n",
              "    }\n",
              "</style>\n",
              "<table border=\"1\" class=\"dataframe\">\n",
              "  <thead>\n",
              "    <tr style=\"text-align: right;\">\n",
              "      <th></th>\n",
              "      <th>id</th>\n",
              "      <th>amount_tsh</th>\n",
              "      <th>date_recorded</th>\n",
              "      <th>funder</th>\n",
              "      <th>gps_height</th>\n",
              "      <th>installer</th>\n",
              "      <th>longitude</th>\n",
              "      <th>latitude</th>\n",
              "      <th>wpt_name</th>\n",
              "      <th>basin</th>\n",
              "      <th>subvillage</th>\n",
              "      <th>region</th>\n",
              "      <th>region_code</th>\n",
              "      <th>district_code</th>\n",
              "      <th>lga</th>\n",
              "      <th>ward</th>\n",
              "      <th>population</th>\n",
              "      <th>public_meeting</th>\n",
              "      <th>recorded_by</th>\n",
              "      <th>scheme_management</th>\n",
              "      <th>scheme_name</th>\n",
              "      <th>permit</th>\n",
              "      <th>construction_year</th>\n",
              "      <th>extraction_type</th>\n",
              "      <th>extraction_type_group</th>\n",
              "      <th>extraction_type_class</th>\n",
              "      <th>management</th>\n",
              "      <th>management_group</th>\n",
              "      <th>payment</th>\n",
              "      <th>payment_type</th>\n",
              "      <th>water_quality</th>\n",
              "      <th>quality_group</th>\n",
              "      <th>quantity</th>\n",
              "      <th>quantity_group</th>\n",
              "      <th>source</th>\n",
              "      <th>source_type</th>\n",
              "      <th>source_class</th>\n",
              "      <th>waterpoint_type</th>\n",
              "      <th>waterpoint_type_group</th>\n",
              "      <th>age</th>\n",
              "      <th>year_recorded</th>\n",
              "      <th>month_recorded</th>\n",
              "    </tr>\n",
              "  </thead>\n",
              "  <tbody>\n",
              "    <tr>\n",
              "      <th>0</th>\n",
              "      <td>69572</td>\n",
              "      <td>6000.0</td>\n",
              "      <td>2011-03-14</td>\n",
              "      <td>Roman</td>\n",
              "      <td>1390</td>\n",
              "      <td>Roman</td>\n",
              "      <td>34.938093</td>\n",
              "      <td>-9.856322</td>\n",
              "      <td>none</td>\n",
              "      <td>Lake Nyasa</td>\n",
              "      <td>Mnyusi B</td>\n",
              "      <td>Iringa</td>\n",
              "      <td>11</td>\n",
              "      <td>5</td>\n",
              "      <td>Ludewa</td>\n",
              "      <td>Mundindi</td>\n",
              "      <td>109</td>\n",
              "      <td>True</td>\n",
              "      <td>GeoData Consultants Ltd</td>\n",
              "      <td>VWC</td>\n",
              "      <td>Roman</td>\n",
              "      <td>False</td>\n",
              "      <td>1999</td>\n",
              "      <td>gravity</td>\n",
              "      <td>gravity</td>\n",
              "      <td>gravity</td>\n",
              "      <td>vwc</td>\n",
              "      <td>user-group</td>\n",
              "      <td>pay annually</td>\n",
              "      <td>annually</td>\n",
              "      <td>soft</td>\n",
              "      <td>good</td>\n",
              "      <td>enough</td>\n",
              "      <td>enough</td>\n",
              "      <td>spring</td>\n",
              "      <td>spring</td>\n",
              "      <td>groundwater</td>\n",
              "      <td>communal standpipe</td>\n",
              "      <td>communal standpipe</td>\n",
              "      <td>12.197125</td>\n",
              "      <td>2011</td>\n",
              "      <td>3</td>\n",
              "    </tr>\n",
              "    <tr>\n",
              "      <th>1</th>\n",
              "      <td>8776</td>\n",
              "      <td>0.0</td>\n",
              "      <td>2013-03-06</td>\n",
              "      <td>Grumeti</td>\n",
              "      <td>1399</td>\n",
              "      <td>GRUMETI</td>\n",
              "      <td>34.698766</td>\n",
              "      <td>-2.147466</td>\n",
              "      <td>Zahanati</td>\n",
              "      <td>Lake Victoria</td>\n",
              "      <td>Nyamara</td>\n",
              "      <td>Mara</td>\n",
              "      <td>20</td>\n",
              "      <td>2</td>\n",
              "      <td>Serengeti</td>\n",
              "      <td>Natta</td>\n",
              "      <td>280</td>\n",
              "      <td>True</td>\n",
              "      <td>GeoData Consultants Ltd</td>\n",
              "      <td>Other</td>\n",
              "      <td>K</td>\n",
              "      <td>True</td>\n",
              "      <td>2010</td>\n",
              "      <td>gravity</td>\n",
              "      <td>gravity</td>\n",
              "      <td>gravity</td>\n",
              "      <td>wug</td>\n",
              "      <td>user-group</td>\n",
              "      <td>never pay</td>\n",
              "      <td>never pay</td>\n",
              "      <td>soft</td>\n",
              "      <td>good</td>\n",
              "      <td>insufficient</td>\n",
              "      <td>insufficient</td>\n",
              "      <td>rainwater harvesting</td>\n",
              "      <td>rainwater harvesting</td>\n",
              "      <td>surface</td>\n",
              "      <td>communal standpipe</td>\n",
              "      <td>communal standpipe</td>\n",
              "      <td>3.175907</td>\n",
              "      <td>2013</td>\n",
              "      <td>3</td>\n",
              "    </tr>\n",
              "    <tr>\n",
              "      <th>2</th>\n",
              "      <td>34310</td>\n",
              "      <td>25.0</td>\n",
              "      <td>2013-02-25</td>\n",
              "      <td>Lottery Club</td>\n",
              "      <td>686</td>\n",
              "      <td>World vision</td>\n",
              "      <td>37.460664</td>\n",
              "      <td>-3.821329</td>\n",
              "      <td>Kwa Mahundi</td>\n",
              "      <td>Pangani</td>\n",
              "      <td>Majengo</td>\n",
              "      <td>Manyara</td>\n",
              "      <td>21</td>\n",
              "      <td>4</td>\n",
              "      <td>Simanjiro</td>\n",
              "      <td>Ngorika</td>\n",
              "      <td>250</td>\n",
              "      <td>True</td>\n",
              "      <td>GeoData Consultants Ltd</td>\n",
              "      <td>VWC</td>\n",
              "      <td>Nyumba ya mungu pipe scheme</td>\n",
              "      <td>True</td>\n",
              "      <td>2009</td>\n",
              "      <td>gravity</td>\n",
              "      <td>gravity</td>\n",
              "      <td>gravity</td>\n",
              "      <td>vwc</td>\n",
              "      <td>user-group</td>\n",
              "      <td>pay per bucket</td>\n",
              "      <td>per bucket</td>\n",
              "      <td>soft</td>\n",
              "      <td>good</td>\n",
              "      <td>enough</td>\n",
              "      <td>enough</td>\n",
              "      <td>dam</td>\n",
              "      <td>dam</td>\n",
              "      <td>surface</td>\n",
              "      <td>communal standpipe multiple</td>\n",
              "      <td>communal standpipe</td>\n",
              "      <td>4.150582</td>\n",
              "      <td>2013</td>\n",
              "      <td>2</td>\n",
              "    </tr>\n",
              "    <tr>\n",
              "      <th>3</th>\n",
              "      <td>67743</td>\n",
              "      <td>0.0</td>\n",
              "      <td>2013-01-28</td>\n",
              "      <td>Unicef</td>\n",
              "      <td>263</td>\n",
              "      <td>UNICEF</td>\n",
              "      <td>38.486161</td>\n",
              "      <td>-11.155298</td>\n",
              "      <td>Zahanati Ya Nanyumbu</td>\n",
              "      <td>Ruvuma / Southern Coast</td>\n",
              "      <td>Mahakamani</td>\n",
              "      <td>Mtwara</td>\n",
              "      <td>90</td>\n",
              "      <td>63</td>\n",
              "      <td>Nanyumbu</td>\n",
              "      <td>Nanyumbu</td>\n",
              "      <td>58</td>\n",
              "      <td>True</td>\n",
              "      <td>GeoData Consultants Ltd</td>\n",
              "      <td>VWC</td>\n",
              "      <td>K</td>\n",
              "      <td>True</td>\n",
              "      <td>1986</td>\n",
              "      <td>submersible</td>\n",
              "      <td>submersible</td>\n",
              "      <td>submersible</td>\n",
              "      <td>vwc</td>\n",
              "      <td>user-group</td>\n",
              "      <td>never pay</td>\n",
              "      <td>never pay</td>\n",
              "      <td>soft</td>\n",
              "      <td>good</td>\n",
              "      <td>dry</td>\n",
              "      <td>dry</td>\n",
              "      <td>machine dbh</td>\n",
              "      <td>borehole</td>\n",
              "      <td>groundwater</td>\n",
              "      <td>communal standpipe multiple</td>\n",
              "      <td>communal standpipe</td>\n",
              "      <td>27.074606</td>\n",
              "      <td>2013</td>\n",
              "      <td>1</td>\n",
              "    </tr>\n",
              "    <tr>\n",
              "      <th>4</th>\n",
              "      <td>19728</td>\n",
              "      <td>0.0</td>\n",
              "      <td>2011-07-13</td>\n",
              "      <td>Action In A</td>\n",
              "      <td>0</td>\n",
              "      <td>Artisan</td>\n",
              "      <td>31.130847</td>\n",
              "      <td>-1.825359</td>\n",
              "      <td>Shuleni</td>\n",
              "      <td>Lake Victoria</td>\n",
              "      <td>Kyanyamisa</td>\n",
              "      <td>Kagera</td>\n",
              "      <td>18</td>\n",
              "      <td>1</td>\n",
              "      <td>Karagwe</td>\n",
              "      <td>Nyakasimbi</td>\n",
              "      <td>0</td>\n",
              "      <td>True</td>\n",
              "      <td>GeoData Consultants Ltd</td>\n",
              "      <td>VWC</td>\n",
              "      <td>K</td>\n",
              "      <td>True</td>\n",
              "      <td>1960</td>\n",
              "      <td>gravity</td>\n",
              "      <td>gravity</td>\n",
              "      <td>gravity</td>\n",
              "      <td>other</td>\n",
              "      <td>other</td>\n",
              "      <td>never pay</td>\n",
              "      <td>never pay</td>\n",
              "      <td>soft</td>\n",
              "      <td>good</td>\n",
              "      <td>seasonal</td>\n",
              "      <td>seasonal</td>\n",
              "      <td>rainwater harvesting</td>\n",
              "      <td>rainwater harvesting</td>\n",
              "      <td>surface</td>\n",
              "      <td>communal standpipe</td>\n",
              "      <td>communal standpipe</td>\n",
              "      <td>51.529090</td>\n",
              "      <td>2011</td>\n",
              "      <td>7</td>\n",
              "    </tr>\n",
              "  </tbody>\n",
              "</table>\n",
              "</div>"
            ],
            "text/plain": [
              "      id  amount_tsh date_recorded  ...        age  year_recorded month_recorded\n",
              "0  69572      6000.0    2011-03-14  ...  12.197125           2011              3\n",
              "1   8776         0.0    2013-03-06  ...   3.175907           2013              3\n",
              "2  34310        25.0    2013-02-25  ...   4.150582           2013              2\n",
              "3  67743         0.0    2013-01-28  ...  27.074606           2013              1\n",
              "4  19728         0.0    2011-07-13  ...  51.529090           2011              7\n",
              "\n",
              "[5 rows x 42 columns]"
            ]
          },
          "metadata": {},
          "execution_count": 361
        }
      ]
    },
    {
      "cell_type": "markdown",
      "metadata": {
        "id": "yjofZyIFLS5A"
      },
      "source": [
        "Now that we have created useful new features, let us remove unnecessary features. We shall remove the columns `id`, `date_recorded`, and `recorded_by` as they are not directly relevant for predictions."
      ]
    },
    {
      "cell_type": "code",
      "metadata": {
        "id": "v89aOSFrLoKO"
      },
      "source": [
        "cols_to_remove = ['date_recorded', 'recorded_by']\n",
        "for col in cols_to_remove:\n",
        "  if col in comb_feats.columns:\n",
        "    comb_feats = comb_feats.drop(columns=[col])"
      ],
      "execution_count": 362,
      "outputs": []
    },
    {
      "cell_type": "markdown",
      "metadata": {
        "id": "cFcZcS-RGkYH"
      },
      "source": [
        "As the last step of feature engineering, let us encode the categorical features using Label Encoding."
      ]
    },
    {
      "cell_type": "code",
      "metadata": {
        "colab": {
          "base_uri": "https://localhost:8080/",
          "height": 224
        },
        "id": "EdC7D_HzG0j7",
        "outputId": "2a240cc3-519b-4dd9-c421-7d4a496122b9"
      },
      "source": [
        "# Using LabelEncoder class\n",
        "from sklearn.preprocessing import LabelEncoder\n",
        "encoder = LabelEncoder()\n",
        "\n",
        "# Categorical columns\n",
        "cat_cols = comb_feats.select_dtypes(include=['object', 'bool']).columns.tolist()\n",
        "\n",
        "for col in cat_cols:\n",
        "  comb_feats[col] = encoder.fit_transform(comb_feats[col])\n",
        "\n",
        "comb_feats.head()"
      ],
      "execution_count": 363,
      "outputs": [
        {
          "output_type": "execute_result",
          "data": {
            "text/html": [
              "<div>\n",
              "<style scoped>\n",
              "    .dataframe tbody tr th:only-of-type {\n",
              "        vertical-align: middle;\n",
              "    }\n",
              "\n",
              "    .dataframe tbody tr th {\n",
              "        vertical-align: top;\n",
              "    }\n",
              "\n",
              "    .dataframe thead th {\n",
              "        text-align: right;\n",
              "    }\n",
              "</style>\n",
              "<table border=\"1\" class=\"dataframe\">\n",
              "  <thead>\n",
              "    <tr style=\"text-align: right;\">\n",
              "      <th></th>\n",
              "      <th>id</th>\n",
              "      <th>amount_tsh</th>\n",
              "      <th>funder</th>\n",
              "      <th>gps_height</th>\n",
              "      <th>installer</th>\n",
              "      <th>longitude</th>\n",
              "      <th>latitude</th>\n",
              "      <th>wpt_name</th>\n",
              "      <th>basin</th>\n",
              "      <th>subvillage</th>\n",
              "      <th>region</th>\n",
              "      <th>region_code</th>\n",
              "      <th>district_code</th>\n",
              "      <th>lga</th>\n",
              "      <th>ward</th>\n",
              "      <th>population</th>\n",
              "      <th>public_meeting</th>\n",
              "      <th>scheme_management</th>\n",
              "      <th>scheme_name</th>\n",
              "      <th>permit</th>\n",
              "      <th>construction_year</th>\n",
              "      <th>extraction_type</th>\n",
              "      <th>extraction_type_group</th>\n",
              "      <th>extraction_type_class</th>\n",
              "      <th>management</th>\n",
              "      <th>management_group</th>\n",
              "      <th>payment</th>\n",
              "      <th>payment_type</th>\n",
              "      <th>water_quality</th>\n",
              "      <th>quality_group</th>\n",
              "      <th>quantity</th>\n",
              "      <th>quantity_group</th>\n",
              "      <th>source</th>\n",
              "      <th>source_type</th>\n",
              "      <th>source_class</th>\n",
              "      <th>waterpoint_type</th>\n",
              "      <th>waterpoint_type_group</th>\n",
              "      <th>age</th>\n",
              "      <th>year_recorded</th>\n",
              "      <th>month_recorded</th>\n",
              "    </tr>\n",
              "  </thead>\n",
              "  <tbody>\n",
              "    <tr>\n",
              "      <th>0</th>\n",
              "      <td>69572</td>\n",
              "      <td>6000.0</td>\n",
              "      <td>1548</td>\n",
              "      <td>1390</td>\n",
              "      <td>1706</td>\n",
              "      <td>34.938093</td>\n",
              "      <td>-9.856322</td>\n",
              "      <td>45683</td>\n",
              "      <td>1</td>\n",
              "      <td>13116</td>\n",
              "      <td>3</td>\n",
              "      <td>11</td>\n",
              "      <td>5</td>\n",
              "      <td>51</td>\n",
              "      <td>1429</td>\n",
              "      <td>109</td>\n",
              "      <td>1</td>\n",
              "      <td>7</td>\n",
              "      <td>2388</td>\n",
              "      <td>0</td>\n",
              "      <td>1999</td>\n",
              "      <td>3</td>\n",
              "      <td>1</td>\n",
              "      <td>0</td>\n",
              "      <td>7</td>\n",
              "      <td>4</td>\n",
              "      <td>2</td>\n",
              "      <td>0</td>\n",
              "      <td>6</td>\n",
              "      <td>2</td>\n",
              "      <td>1</td>\n",
              "      <td>1</td>\n",
              "      <td>8</td>\n",
              "      <td>6</td>\n",
              "      <td>0</td>\n",
              "      <td>1</td>\n",
              "      <td>1</td>\n",
              "      <td>12.197125</td>\n",
              "      <td>2011</td>\n",
              "      <td>3</td>\n",
              "    </tr>\n",
              "    <tr>\n",
              "      <th>1</th>\n",
              "      <td>8776</td>\n",
              "      <td>0.0</td>\n",
              "      <td>522</td>\n",
              "      <td>1399</td>\n",
              "      <td>610</td>\n",
              "      <td>34.698766</td>\n",
              "      <td>-2.147466</td>\n",
              "      <td>45426</td>\n",
              "      <td>4</td>\n",
              "      <td>17596</td>\n",
              "      <td>9</td>\n",
              "      <td>20</td>\n",
              "      <td>2</td>\n",
              "      <td>103</td>\n",
              "      <td>1581</td>\n",
              "      <td>280</td>\n",
              "      <td>1</td>\n",
              "      <td>2</td>\n",
              "      <td>644</td>\n",
              "      <td>1</td>\n",
              "      <td>2010</td>\n",
              "      <td>3</td>\n",
              "      <td>1</td>\n",
              "      <td>0</td>\n",
              "      <td>11</td>\n",
              "      <td>4</td>\n",
              "      <td>0</td>\n",
              "      <td>2</td>\n",
              "      <td>6</td>\n",
              "      <td>2</td>\n",
              "      <td>2</td>\n",
              "      <td>2</td>\n",
              "      <td>5</td>\n",
              "      <td>3</td>\n",
              "      <td>1</td>\n",
              "      <td>1</td>\n",
              "      <td>1</td>\n",
              "      <td>3.175907</td>\n",
              "      <td>2013</td>\n",
              "      <td>3</td>\n",
              "    </tr>\n",
              "    <tr>\n",
              "      <th>2</th>\n",
              "      <td>34310</td>\n",
              "      <td>25.0</td>\n",
              "      <td>924</td>\n",
              "      <td>686</td>\n",
              "      <td>2296</td>\n",
              "      <td>37.460664</td>\n",
              "      <td>-3.821329</td>\n",
              "      <td>17767</td>\n",
              "      <td>5</td>\n",
              "      <td>10096</td>\n",
              "      <td>8</td>\n",
              "      <td>21</td>\n",
              "      <td>4</td>\n",
              "      <td>108</td>\n",
              "      <td>1629</td>\n",
              "      <td>250</td>\n",
              "      <td>1</td>\n",
              "      <td>7</td>\n",
              "      <td>2261</td>\n",
              "      <td>1</td>\n",
              "      <td>2009</td>\n",
              "      <td>3</td>\n",
              "      <td>1</td>\n",
              "      <td>0</td>\n",
              "      <td>7</td>\n",
              "      <td>4</td>\n",
              "      <td>4</td>\n",
              "      <td>5</td>\n",
              "      <td>6</td>\n",
              "      <td>2</td>\n",
              "      <td>1</td>\n",
              "      <td>1</td>\n",
              "      <td>0</td>\n",
              "      <td>1</td>\n",
              "      <td>1</td>\n",
              "      <td>2</td>\n",
              "      <td>1</td>\n",
              "      <td>4.150582</td>\n",
              "      <td>2013</td>\n",
              "      <td>2</td>\n",
              "    </tr>\n",
              "    <tr>\n",
              "      <th>3</th>\n",
              "      <td>67743</td>\n",
              "      <td>0.0</td>\n",
              "      <td>1961</td>\n",
              "      <td>263</td>\n",
              "      <td>2078</td>\n",
              "      <td>38.486161</td>\n",
              "      <td>-11.155298</td>\n",
              "      <td>45537</td>\n",
              "      <td>7</td>\n",
              "      <td>9998</td>\n",
              "      <td>12</td>\n",
              "      <td>90</td>\n",
              "      <td>63</td>\n",
              "      <td>87</td>\n",
              "      <td>1576</td>\n",
              "      <td>58</td>\n",
              "      <td>1</td>\n",
              "      <td>7</td>\n",
              "      <td>644</td>\n",
              "      <td>1</td>\n",
              "      <td>1986</td>\n",
              "      <td>14</td>\n",
              "      <td>10</td>\n",
              "      <td>5</td>\n",
              "      <td>7</td>\n",
              "      <td>4</td>\n",
              "      <td>0</td>\n",
              "      <td>2</td>\n",
              "      <td>6</td>\n",
              "      <td>2</td>\n",
              "      <td>0</td>\n",
              "      <td>0</td>\n",
              "      <td>3</td>\n",
              "      <td>0</td>\n",
              "      <td>0</td>\n",
              "      <td>2</td>\n",
              "      <td>1</td>\n",
              "      <td>27.074606</td>\n",
              "      <td>2013</td>\n",
              "      <td>1</td>\n",
              "    </tr>\n",
              "    <tr>\n",
              "      <th>4</th>\n",
              "      <td>19728</td>\n",
              "      <td>0.0</td>\n",
              "      <td>20</td>\n",
              "      <td>0</td>\n",
              "      <td>133</td>\n",
              "      <td>31.130847</td>\n",
              "      <td>-1.825359</td>\n",
              "      <td>43411</td>\n",
              "      <td>4</td>\n",
              "      <td>8583</td>\n",
              "      <td>4</td>\n",
              "      <td>18</td>\n",
              "      <td>1</td>\n",
              "      <td>26</td>\n",
              "      <td>1692</td>\n",
              "      <td>0</td>\n",
              "      <td>1</td>\n",
              "      <td>7</td>\n",
              "      <td>644</td>\n",
              "      <td>1</td>\n",
              "      <td>1960</td>\n",
              "      <td>3</td>\n",
              "      <td>1</td>\n",
              "      <td>0</td>\n",
              "      <td>1</td>\n",
              "      <td>1</td>\n",
              "      <td>0</td>\n",
              "      <td>2</td>\n",
              "      <td>6</td>\n",
              "      <td>2</td>\n",
              "      <td>3</td>\n",
              "      <td>3</td>\n",
              "      <td>5</td>\n",
              "      <td>3</td>\n",
              "      <td>1</td>\n",
              "      <td>1</td>\n",
              "      <td>1</td>\n",
              "      <td>51.529090</td>\n",
              "      <td>2011</td>\n",
              "      <td>7</td>\n",
              "    </tr>\n",
              "  </tbody>\n",
              "</table>\n",
              "</div>"
            ],
            "text/plain": [
              "      id  amount_tsh  funder  ...        age  year_recorded  month_recorded\n",
              "0  69572      6000.0    1548  ...  12.197125           2011               3\n",
              "1   8776         0.0     522  ...   3.175907           2013               3\n",
              "2  34310        25.0     924  ...   4.150582           2013               2\n",
              "3  67743         0.0    1961  ...  27.074606           2013               1\n",
              "4  19728         0.0      20  ...  51.529090           2011               7\n",
              "\n",
              "[5 rows x 40 columns]"
            ]
          },
          "metadata": {},
          "execution_count": 363
        }
      ]
    },
    {
      "cell_type": "markdown",
      "metadata": {
        "id": "WTBp-ed2IYCz"
      },
      "source": [
        "Well now... we have completed preprocessing and feature engineering. Let us divide the combined set back to train and test sets as we had initially."
      ]
    },
    {
      "cell_type": "code",
      "metadata": {
        "colab": {
          "base_uri": "https://localhost:8080/"
        },
        "id": "TxOK_qc-Ikyb",
        "outputId": "05951337-c223-4ae7-f1a1-1d1d15687f08"
      },
      "source": [
        "train_feats = comb_feats[:len(train_feats)]\n",
        "test_feats = comb_feats[len(train_feats):]\n",
        "\n",
        "train_feats.shape, test_feats.shape"
      ],
      "execution_count": 364,
      "outputs": [
        {
          "output_type": "execute_result",
          "data": {
            "text/plain": [
              "((59400, 40), (14850, 40))"
            ]
          },
          "metadata": {},
          "execution_count": 364
        }
      ]
    },
    {
      "cell_type": "code",
      "metadata": {
        "colab": {
          "base_uri": "https://localhost:8080/"
        },
        "id": "5ilWWunVKZ4h",
        "outputId": "cb3aaf6b-198f-4cde-e5cc-e509a6c1de6a"
      },
      "source": [
        "train_feats.dtypes"
      ],
      "execution_count": 365,
      "outputs": [
        {
          "output_type": "execute_result",
          "data": {
            "text/plain": [
              "id                         int64\n",
              "amount_tsh               float64\n",
              "funder                     int64\n",
              "gps_height                 int64\n",
              "installer                  int64\n",
              "longitude                float64\n",
              "latitude                 float64\n",
              "wpt_name                   int64\n",
              "basin                      int64\n",
              "subvillage                 int64\n",
              "region                     int64\n",
              "region_code                int64\n",
              "district_code              int64\n",
              "lga                        int64\n",
              "ward                       int64\n",
              "population                 int64\n",
              "public_meeting             int64\n",
              "scheme_management          int64\n",
              "scheme_name                int64\n",
              "permit                     int64\n",
              "construction_year          int64\n",
              "extraction_type            int64\n",
              "extraction_type_group      int64\n",
              "extraction_type_class      int64\n",
              "management                 int64\n",
              "management_group           int64\n",
              "payment                    int64\n",
              "payment_type               int64\n",
              "water_quality              int64\n",
              "quality_group              int64\n",
              "quantity                   int64\n",
              "quantity_group             int64\n",
              "source                     int64\n",
              "source_type                int64\n",
              "source_class               int64\n",
              "waterpoint_type            int64\n",
              "waterpoint_type_group      int64\n",
              "age                      float64\n",
              "year_recorded              int64\n",
              "month_recorded             int64\n",
              "dtype: object"
            ]
          },
          "metadata": {},
          "execution_count": 365
        }
      ]
    },
    {
      "cell_type": "markdown",
      "metadata": {
        "id": "QFq7UneJPj39"
      },
      "source": [
        "# Part 5: Validation"
      ]
    },
    {
      "cell_type": "markdown",
      "metadata": {
        "id": "ox083OtFPqcd"
      },
      "source": [
        "Before making actual predictions, let us do a validation by splitting our training data into two parts: training and validation. As our learning model, we are going to use a Random Forest model."
      ]
    },
    {
      "cell_type": "markdown",
      "metadata": {
        "id": "Z0bnhnnxUTK3"
      },
      "source": [
        "First, let us decide which features are we going to use in model training."
      ]
    },
    {
      "cell_type": "code",
      "metadata": {
        "colab": {
          "base_uri": "https://localhost:8080/"
        },
        "id": "atQGXxA8UY-2",
        "outputId": "75a397a6-e272-4eeb-c020-af5d80a44a03"
      },
      "source": [
        "to_exclude = ['id']\n",
        "features = [f for f in train_feats.columns if f not in to_exclude]\n",
        "len(features)"
      ],
      "execution_count": 367,
      "outputs": [
        {
          "output_type": "execute_result",
          "data": {
            "text/plain": [
              "39"
            ]
          },
          "metadata": {},
          "execution_count": 367
        }
      ]
    },
    {
      "cell_type": "markdown",
      "metadata": {
        "id": "UB4dZEYfQ4XK"
      },
      "source": [
        "First let us split the training set"
      ]
    },
    {
      "cell_type": "code",
      "metadata": {
        "colab": {
          "base_uri": "https://localhost:8080/"
        },
        "id": "wid_OG-3P762",
        "outputId": "ee4a0417-d69a-4469-8466-e45b11fca788"
      },
      "source": [
        "from sklearn.model_selection import train_test_split\n",
        "\n",
        "train_X, valid_X, train_y, valid_y = train_test_split(train_feats[features], train_labels.status_group, test_size=0.2, random_state=1)\n",
        "\n",
        "train_X.shape, valid_X.shape"
      ],
      "execution_count": 368,
      "outputs": [
        {
          "output_type": "execute_result",
          "data": {
            "text/plain": [
              "((47520, 39), (11880, 39))"
            ]
          },
          "metadata": {},
          "execution_count": 368
        }
      ]
    },
    {
      "cell_type": "markdown",
      "metadata": {
        "id": "ZrWiDqDsRFSe"
      },
      "source": [
        "Initializing and fitting the model"
      ]
    },
    {
      "cell_type": "code",
      "metadata": {
        "colab": {
          "base_uri": "https://localhost:8080/"
        },
        "id": "fyNca-0MQ1zs",
        "outputId": "5df532a6-f1bf-4a66-d23c-42b09b907d06"
      },
      "source": [
        "from sklearn.ensemble import RandomForestClassifier\n",
        "\n",
        "model = RandomForestClassifier(n_estimators=1000, min_samples_split=10)\n",
        "\n",
        "model.fit(train_X[features], train_y)\n",
        "\n",
        "score = model.score(valid_X[features], valid_y)\n",
        "\n",
        "print(score)"
      ],
      "execution_count": 369,
      "outputs": [
        {
          "output_type": "stream",
          "name": "stdout",
          "text": [
            "0.817003367003367\n"
          ]
        }
      ]
    },
    {
      "cell_type": "markdown",
      "metadata": {
        "id": "LVEL1Yq6R7yW"
      },
      "source": [
        "81% is a good achievement from the training set. Now we are more confident about our model.\n",
        "So let us go ahead and fit the model using the whole training set, and finally make predictions!"
      ]
    },
    {
      "cell_type": "markdown",
      "metadata": {
        "id": "GJp-4R1xoIyJ"
      },
      "source": [
        "# Finally: Fitting the model and making predictions"
      ]
    },
    {
      "cell_type": "code",
      "metadata": {
        "colab": {
          "base_uri": "https://localhost:8080/",
          "height": 224
        },
        "id": "mV1osfa_WQBv",
        "outputId": "fd14274b-3b38-4bdf-bce3-eac78888045c"
      },
      "source": [
        "# Fitting\n",
        "fit_X = train_feats[features]\n",
        "fit_y = train_labels.status_group\n",
        "\n",
        "model.fit(fit_X, fit_y)\n",
        "\n",
        "print(\"Model Fitting - Complete\")\n",
        "\n",
        "# Making predictions\n",
        "predict_X = test_feats[features]\n",
        "\n",
        "preds = model.predict(predict_X)\n",
        "\n",
        "print(\"Making Predictions - Complete\")\n",
        "\n",
        "test_preds = test_feats.copy()\n",
        "test_preds['status_group'] = preds\n",
        "\n",
        "test_preds.head()"
      ],
      "execution_count": 371,
      "outputs": [
        {
          "output_type": "execute_result",
          "data": {
            "text/html": [
              "<div>\n",
              "<style scoped>\n",
              "    .dataframe tbody tr th:only-of-type {\n",
              "        vertical-align: middle;\n",
              "    }\n",
              "\n",
              "    .dataframe tbody tr th {\n",
              "        vertical-align: top;\n",
              "    }\n",
              "\n",
              "    .dataframe thead th {\n",
              "        text-align: right;\n",
              "    }\n",
              "</style>\n",
              "<table border=\"1\" class=\"dataframe\">\n",
              "  <thead>\n",
              "    <tr style=\"text-align: right;\">\n",
              "      <th></th>\n",
              "      <th>id</th>\n",
              "      <th>amount_tsh</th>\n",
              "      <th>funder</th>\n",
              "      <th>gps_height</th>\n",
              "      <th>installer</th>\n",
              "      <th>longitude</th>\n",
              "      <th>latitude</th>\n",
              "      <th>wpt_name</th>\n",
              "      <th>basin</th>\n",
              "      <th>subvillage</th>\n",
              "      <th>region</th>\n",
              "      <th>region_code</th>\n",
              "      <th>district_code</th>\n",
              "      <th>lga</th>\n",
              "      <th>ward</th>\n",
              "      <th>population</th>\n",
              "      <th>public_meeting</th>\n",
              "      <th>scheme_management</th>\n",
              "      <th>scheme_name</th>\n",
              "      <th>permit</th>\n",
              "      <th>construction_year</th>\n",
              "      <th>extraction_type</th>\n",
              "      <th>extraction_type_group</th>\n",
              "      <th>extraction_type_class</th>\n",
              "      <th>management</th>\n",
              "      <th>management_group</th>\n",
              "      <th>payment</th>\n",
              "      <th>payment_type</th>\n",
              "      <th>water_quality</th>\n",
              "      <th>quality_group</th>\n",
              "      <th>quantity</th>\n",
              "      <th>quantity_group</th>\n",
              "      <th>source</th>\n",
              "      <th>source_type</th>\n",
              "      <th>source_class</th>\n",
              "      <th>waterpoint_type</th>\n",
              "      <th>waterpoint_type_group</th>\n",
              "      <th>age</th>\n",
              "      <th>year_recorded</th>\n",
              "      <th>month_recorded</th>\n",
              "      <th>status_group</th>\n",
              "    </tr>\n",
              "  </thead>\n",
              "  <tbody>\n",
              "    <tr>\n",
              "      <th>0</th>\n",
              "      <td>50785</td>\n",
              "      <td>0.0</td>\n",
              "      <td>345</td>\n",
              "      <td>1996</td>\n",
              "      <td>426</td>\n",
              "      <td>35.290799</td>\n",
              "      <td>-4.059696</td>\n",
              "      <td>2669</td>\n",
              "      <td>0</td>\n",
              "      <td>9934</td>\n",
              "      <td>8</td>\n",
              "      <td>21</td>\n",
              "      <td>3</td>\n",
              "      <td>63</td>\n",
              "      <td>18</td>\n",
              "      <td>321</td>\n",
              "      <td>1</td>\n",
              "      <td>3</td>\n",
              "      <td>644</td>\n",
              "      <td>1</td>\n",
              "      <td>2012</td>\n",
              "      <td>9</td>\n",
              "      <td>6</td>\n",
              "      <td>3</td>\n",
              "      <td>3</td>\n",
              "      <td>2</td>\n",
              "      <td>0</td>\n",
              "      <td>2</td>\n",
              "      <td>6</td>\n",
              "      <td>2</td>\n",
              "      <td>3</td>\n",
              "      <td>3</td>\n",
              "      <td>5</td>\n",
              "      <td>3</td>\n",
              "      <td>1</td>\n",
              "      <td>6</td>\n",
              "      <td>5</td>\n",
              "      <td>1.095140</td>\n",
              "      <td>2013</td>\n",
              "      <td>2</td>\n",
              "      <td>non functional</td>\n",
              "    </tr>\n",
              "    <tr>\n",
              "      <th>1</th>\n",
              "      <td>51630</td>\n",
              "      <td>0.0</td>\n",
              "      <td>507</td>\n",
              "      <td>1569</td>\n",
              "      <td>442</td>\n",
              "      <td>36.656709</td>\n",
              "      <td>-3.309214</td>\n",
              "      <td>7473</td>\n",
              "      <td>5</td>\n",
              "      <td>6897</td>\n",
              "      <td>0</td>\n",
              "      <td>2</td>\n",
              "      <td>2</td>\n",
              "      <td>0</td>\n",
              "      <td>693</td>\n",
              "      <td>300</td>\n",
              "      <td>1</td>\n",
              "      <td>7</td>\n",
              "      <td>2570</td>\n",
              "      <td>1</td>\n",
              "      <td>2000</td>\n",
              "      <td>3</td>\n",
              "      <td>1</td>\n",
              "      <td>0</td>\n",
              "      <td>7</td>\n",
              "      <td>4</td>\n",
              "      <td>0</td>\n",
              "      <td>2</td>\n",
              "      <td>6</td>\n",
              "      <td>2</td>\n",
              "      <td>2</td>\n",
              "      <td>2</td>\n",
              "      <td>8</td>\n",
              "      <td>6</td>\n",
              "      <td>0</td>\n",
              "      <td>1</td>\n",
              "      <td>1</td>\n",
              "      <td>13.095140</td>\n",
              "      <td>2013</td>\n",
              "      <td>2</td>\n",
              "      <td>functional</td>\n",
              "    </tr>\n",
              "    <tr>\n",
              "      <th>2</th>\n",
              "      <td>17168</td>\n",
              "      <td>0.0</td>\n",
              "      <td>507</td>\n",
              "      <td>1567</td>\n",
              "      <td>442</td>\n",
              "      <td>34.767863</td>\n",
              "      <td>-5.004344</td>\n",
              "      <td>41112</td>\n",
              "      <td>0</td>\n",
              "      <td>13539</td>\n",
              "      <td>18</td>\n",
              "      <td>13</td>\n",
              "      <td>2</td>\n",
              "      <td>109</td>\n",
              "      <td>1792</td>\n",
              "      <td>500</td>\n",
              "      <td>1</td>\n",
              "      <td>7</td>\n",
              "      <td>2312</td>\n",
              "      <td>1</td>\n",
              "      <td>2010</td>\n",
              "      <td>9</td>\n",
              "      <td>6</td>\n",
              "      <td>3</td>\n",
              "      <td>7</td>\n",
              "      <td>4</td>\n",
              "      <td>0</td>\n",
              "      <td>2</td>\n",
              "      <td>6</td>\n",
              "      <td>2</td>\n",
              "      <td>2</td>\n",
              "      <td>2</td>\n",
              "      <td>5</td>\n",
              "      <td>3</td>\n",
              "      <td>1</td>\n",
              "      <td>6</td>\n",
              "      <td>5</td>\n",
              "      <td>3.085558</td>\n",
              "      <td>2013</td>\n",
              "      <td>2</td>\n",
              "      <td>functional</td>\n",
              "    </tr>\n",
              "    <tr>\n",
              "      <th>3</th>\n",
              "      <td>45559</td>\n",
              "      <td>0.0</td>\n",
              "      <td>443</td>\n",
              "      <td>267</td>\n",
              "      <td>545</td>\n",
              "      <td>38.058046</td>\n",
              "      <td>-9.418672</td>\n",
              "      <td>24064</td>\n",
              "      <td>7</td>\n",
              "      <td>7143</td>\n",
              "      <td>7</td>\n",
              "      <td>80</td>\n",
              "      <td>43</td>\n",
              "      <td>49</td>\n",
              "      <td>1283</td>\n",
              "      <td>250</td>\n",
              "      <td>1</td>\n",
              "      <td>7</td>\n",
              "      <td>644</td>\n",
              "      <td>1</td>\n",
              "      <td>1987</td>\n",
              "      <td>9</td>\n",
              "      <td>6</td>\n",
              "      <td>3</td>\n",
              "      <td>7</td>\n",
              "      <td>4</td>\n",
              "      <td>6</td>\n",
              "      <td>6</td>\n",
              "      <td>6</td>\n",
              "      <td>2</td>\n",
              "      <td>0</td>\n",
              "      <td>0</td>\n",
              "      <td>7</td>\n",
              "      <td>5</td>\n",
              "      <td>0</td>\n",
              "      <td>6</td>\n",
              "      <td>5</td>\n",
              "      <td>26.058864</td>\n",
              "      <td>2013</td>\n",
              "      <td>1</td>\n",
              "      <td>non functional</td>\n",
              "    </tr>\n",
              "    <tr>\n",
              "      <th>4</th>\n",
              "      <td>49871</td>\n",
              "      <td>500.0</td>\n",
              "      <td>150</td>\n",
              "      <td>1260</td>\n",
              "      <td>164</td>\n",
              "      <td>35.006123</td>\n",
              "      <td>-10.950412</td>\n",
              "      <td>24521</td>\n",
              "      <td>7</td>\n",
              "      <td>9033</td>\n",
              "      <td>16</td>\n",
              "      <td>10</td>\n",
              "      <td>3</td>\n",
              "      <td>61</td>\n",
              "      <td>1157</td>\n",
              "      <td>60</td>\n",
              "      <td>1</td>\n",
              "      <td>10</td>\n",
              "      <td>157</td>\n",
              "      <td>1</td>\n",
              "      <td>2000</td>\n",
              "      <td>3</td>\n",
              "      <td>1</td>\n",
              "      <td>0</td>\n",
              "      <td>9</td>\n",
              "      <td>4</td>\n",
              "      <td>3</td>\n",
              "      <td>1</td>\n",
              "      <td>6</td>\n",
              "      <td>2</td>\n",
              "      <td>1</td>\n",
              "      <td>1</td>\n",
              "      <td>8</td>\n",
              "      <td>6</td>\n",
              "      <td>0</td>\n",
              "      <td>1</td>\n",
              "      <td>1</td>\n",
              "      <td>13.234771</td>\n",
              "      <td>2013</td>\n",
              "      <td>3</td>\n",
              "      <td>functional</td>\n",
              "    </tr>\n",
              "  </tbody>\n",
              "</table>\n",
              "</div>"
            ],
            "text/plain": [
              "      id  amount_tsh  funder  ...  year_recorded  month_recorded    status_group\n",
              "0  50785         0.0     345  ...           2013               2  non functional\n",
              "1  51630         0.0     507  ...           2013               2      functional\n",
              "2  17168         0.0     507  ...           2013               2      functional\n",
              "3  45559         0.0     443  ...           2013               1  non functional\n",
              "4  49871       500.0     150  ...           2013               3      functional\n",
              "\n",
              "[5 rows x 41 columns]"
            ]
          },
          "metadata": {},
          "execution_count": 371
        }
      ]
    },
    {
      "cell_type": "markdown",
      "metadata": {
        "id": "pOC67r3hYDip"
      },
      "source": [
        "Yay! Now we have made the predictions! Let us write the output to a csv file and submit to the competition, and see our achievement."
      ]
    },
    {
      "cell_type": "code",
      "metadata": {
        "id": "AefgkBTGYUmm"
      },
      "source": [
        "version = \"2-0\"\n",
        "\n",
        "out_cols = ['id', 'status_group']\n",
        "test_preds[out_cols].to_csv(f\"./submission-{version}.csv\", index=False)"
      ],
      "execution_count": 374,
      "outputs": []
    }
  ]
}